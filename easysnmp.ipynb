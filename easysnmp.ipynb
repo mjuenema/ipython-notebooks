{
 "cells": [
  {
   "cell_type": "markdown",
   "metadata": {},
   "source": [
    "# easysnmp"
   ]
  },
  {
   "cell_type": "code",
   "execution_count": 13,
   "metadata": {},
   "outputs": [],
   "source": [
    "import easysnmp"
   ]
  },
  {
   "cell_type": "code",
   "execution_count": 14,
   "metadata": {},
   "outputs": [],
   "source": [
    "session = easysnmp.Session(hostname='localhost', community='public', version=2)"
   ]
  },
  {
   "cell_type": "code",
   "execution_count": 15,
   "metadata": {},
   "outputs": [
    {
     "data": {
      "text/plain": [
       "('sysLocation', '0', 'OCTETSTR', 'Unknown (edit /etc/snmp/snmpd.conf)')"
      ]
     },
     "execution_count": 15,
     "metadata": {},
     "output_type": "execute_result"
    }
   ],
   "source": [
    "location = session.get('sysLocation.0')\n",
    "location.oid, location.oid_index, location.snmp_type, location.value"
   ]
  },
  {
   "cell_type": "code",
   "execution_count": 16,
   "metadata": {},
   "outputs": [],
   "source": [
    "iftable = session.walk('IF-MIB::ifTable')"
   ]
  },
  {
   "cell_type": "code",
   "execution_count": 17,
   "metadata": {},
   "outputs": [
    {
     "name": "stdout",
     "output_type": "stream",
     "text": [
      "ifIndex 1 INTEGER 1 1\n",
      "ifIndex 2 INTEGER 2 1\n",
      "ifIndex 3 INTEGER 3 1\n",
      "ifIndex 4 INTEGER 4 1\n",
      "ifIndex 5 INTEGER 5 1\n",
      "ifDescr 1 OCTETSTR lo 2\n",
      "ifDescr 2 OCTETSTR enp4s0 6\n",
      "ifDescr 3 OCTETSTR wlp0s18f2u5 11\n",
      "ifDescr 4 OCTETSTR docker0 7\n",
      "ifDescr 5 OCTETSTR br-f863e3fde3cb 15\n",
      "ifType 1 INTEGER 24 2\n",
      "ifType 2 INTEGER 6 1\n",
      "ifType 3 INTEGER 6 1\n",
      "ifType 4 INTEGER 6 1\n",
      "ifType 5 INTEGER 6 1\n",
      "ifMtu 1 INTEGER 65536 5\n",
      "ifMtu 2 INTEGER 1500 4\n",
      "ifMtu 3 INTEGER 1500 4\n",
      "ifMtu 4 INTEGER 1500 4\n",
      "ifMtu 5 INTEGER 1500 4\n",
      "ifSpeed 1 GAUGE 10000000 8\n",
      "ifSpeed 2 GAUGE 0 1\n",
      "ifSpeed 3 GAUGE 0 1\n",
      "ifSpeed 4 GAUGE 0 1\n",
      "ifSpeed 5 GAUGE 0 1\n",
      "ifPhysAddress 1 OCTETSTR  0\n",
      "ifPhysAddress 2 OCTETSTR \u001c",
      "oeÒ 6\n",
      "ifPhysAddress 3 OCTETSTR tÚ8ð 6\n",
      "ifPhysAddress 4 OCTETSTR \u0002BÕW$ß 6\n",
      "ifPhysAddress 5 OCTETSTR \u0002B(B 6\n",
      "ifAdminStatus 1 INTEGER 1 1\n",
      "ifAdminStatus 2 INTEGER 1 1\n",
      "ifAdminStatus 3 INTEGER 1 1\n",
      "ifAdminStatus 4 INTEGER 1 1\n",
      "ifAdminStatus 5 INTEGER 1 1\n",
      "ifOperStatus 1 INTEGER 1 1\n",
      "ifOperStatus 2 INTEGER 2 1\n",
      "ifOperStatus 3 INTEGER 1 1\n",
      "ifOperStatus 4 INTEGER 2 1\n",
      "ifOperStatus 5 INTEGER 2 1\n",
      "ifLastChange 1 TICKS 0 1\n",
      "ifLastChange 2 TICKS 0 1\n",
      "ifLastChange 3 TICKS 0 1\n",
      "ifLastChange 4 TICKS 0 1\n",
      "ifLastChange 5 TICKS 0 1\n",
      "ifInOctets 1 COUNTER 5364595 7\n",
      "ifInOctets 2 COUNTER 0 1\n",
      "ifInOctets 3 COUNTER 79630048 8\n",
      "ifInOctets 4 COUNTER 0 1\n",
      "ifInOctets 5 COUNTER 0 1\n",
      "ifInUcastPkts 1 COUNTER 1882 4\n",
      "ifInUcastPkts 2 COUNTER 0 1\n",
      "ifInUcastPkts 3 COUNTER 69261 5\n",
      "ifInUcastPkts 4 COUNTER 0 1\n",
      "ifInUcastPkts 5 COUNTER 0 1\n",
      "ifInNUcastPkts 1 COUNTER 0 1\n",
      "ifInNUcastPkts 2 COUNTER 0 1\n",
      "ifInNUcastPkts 3 COUNTER 0 1\n",
      "ifInNUcastPkts 4 COUNTER 0 1\n",
      "ifInNUcastPkts 5 COUNTER 0 1\n",
      "ifInDiscards 1 COUNTER 0 1\n",
      "ifInDiscards 2 COUNTER 0 1\n",
      "ifInDiscards 3 COUNTER 14 2\n",
      "ifInDiscards 4 COUNTER 0 1\n",
      "ifInDiscards 5 COUNTER 0 1\n",
      "ifInErrors 1 COUNTER 0 1\n",
      "ifInErrors 2 COUNTER 0 1\n",
      "ifInErrors 3 COUNTER 0 1\n",
      "ifInErrors 4 COUNTER 0 1\n",
      "ifInErrors 5 COUNTER 0 1\n",
      "ifInUnknownProtos 1 COUNTER 0 1\n",
      "ifInUnknownProtos 2 COUNTER 0 1\n",
      "ifInUnknownProtos 3 COUNTER 0 1\n",
      "ifInUnknownProtos 4 COUNTER 0 1\n",
      "ifInUnknownProtos 5 COUNTER 0 1\n",
      "ifOutOctets 1 COUNTER 5364595 7\n",
      "ifOutOctets 2 COUNTER 0 1\n",
      "ifOutOctets 3 COUNTER 4311572 7\n",
      "ifOutOctets 4 COUNTER 0 1\n",
      "ifOutOctets 5 COUNTER 0 1\n",
      "ifOutUcastPkts 1 COUNTER 1882 4\n",
      "ifOutUcastPkts 2 COUNTER 0 1\n",
      "ifOutUcastPkts 3 COUNTER 33510 5\n",
      "ifOutUcastPkts 4 COUNTER 0 1\n",
      "ifOutUcastPkts 5 COUNTER 0 1\n",
      "ifOutNUcastPkts 1 COUNTER 0 1\n",
      "ifOutNUcastPkts 2 COUNTER 0 1\n",
      "ifOutNUcastPkts 3 COUNTER 0 1\n",
      "ifOutNUcastPkts 4 COUNTER 0 1\n",
      "ifOutNUcastPkts 5 COUNTER 0 1\n",
      "ifOutDiscards 1 COUNTER 0 1\n",
      "ifOutDiscards 2 COUNTER 0 1\n",
      "ifOutDiscards 3 COUNTER 0 1\n",
      "ifOutDiscards 4 COUNTER 0 1\n",
      "ifOutDiscards 5 COUNTER 0 1\n",
      "ifOutErrors 1 COUNTER 0 1\n",
      "ifOutErrors 2 COUNTER 0 1\n",
      "ifOutErrors 3 COUNTER 0 1\n",
      "ifOutErrors 4 COUNTER 0 1\n",
      "ifOutErrors 5 COUNTER 0 1\n",
      "ifOutQLen 1 GAUGE 0 1\n",
      "ifOutQLen 2 GAUGE 0 1\n",
      "ifOutQLen 3 GAUGE 0 1\n",
      "ifOutQLen 4 GAUGE 0 1\n",
      "ifOutQLen 5 GAUGE 0 1\n",
      "ifSpecific 1 OBJECTID .0.0 4\n",
      "ifSpecific 2 OBJECTID .0.0 4\n",
      "ifSpecific 3 OBJECTID .0.0 4\n",
      "ifSpecific 4 OBJECTID .0.0 4\n",
      "ifSpecific 5 OBJECTID .0.0 4\n"
     ]
    }
   ],
   "source": [
    "for item in iftable:\n",
    "    print(item.oid, item.oid_index, item.snmp_type, item.value, len(item.value))"
   ]
  },
  {
   "cell_type": "markdown",
   "metadata": {},
   "source": [
    "The type of ``.value`` is always a Python string but the string returned in ``.snmp_type`` can be used to convert to the correct Python type. T\n",
    "* INTEGER32\n",
    "* INTEGER\n",
    "* UNSIGNED32\n",
    "* GAUGE\n",
    "* IPADDR\n",
    "* OCTETSTR\n",
    "* TICKS\n",
    "* OPAQUE\n",
    "* OBJECTID\n",
    "* NETADDR\n",
    "* COUNTER64\n",
    "* NULL\n",
    "* BITS\n",
    "* UINTEGER\n",
    "\n",
    "This is unfortunately not always straight-forward as only the base types are used. For example ``ifPhysAddress`` is returned as an ``OCTETSTR`` which must then be converted into the proper hexadecimal representation of a layer-2 address."
   ]
  },
  {
   "cell_type": "code",
   "execution_count": 83,
   "metadata": {},
   "outputs": [],
   "source": [
    "macaddress = session.get('IF-MIB::ifPhysAddress.2')"
   ]
  },
  {
   "cell_type": "code",
   "execution_count": 84,
   "metadata": {},
   "outputs": [
    {
     "data": {
      "text/plain": [
       "'1c:6f:65:8d:9a:d2'"
      ]
     },
     "execution_count": 84,
     "metadata": {},
     "output_type": "execute_result"
    }
   ],
   "source": [
    "':'.join(['%02x' % (ord(x)) for x in macaddress.value])"
   ]
  },
  {
   "cell_type": "markdown",
   "metadata": {},
   "source": [
    "# easysnmptable"
   ]
  },
  {
   "cell_type": "code",
   "execution_count": 85,
   "metadata": {},
   "outputs": [],
   "source": [
    "import easysnmptable"
   ]
  },
  {
   "cell_type": "code",
   "execution_count": 86,
   "metadata": {},
   "outputs": [],
   "source": [
    "session = easysnmptable.Session(hostname='localhost', community='public', version=2)"
   ]
  },
  {
   "cell_type": "code",
   "execution_count": 87,
   "metadata": {},
   "outputs": [],
   "source": [
    "iftable = session.gettable('IF-MIB::ifTable')"
   ]
  },
  {
   "cell_type": "code",
   "execution_count": 88,
   "metadata": {},
   "outputs": [
    {
     "data": {
      "text/plain": [
       "{'1', '2', '3', '4', '5'}"
      ]
     },
     "execution_count": 88,
     "metadata": {},
     "output_type": "execute_result"
    }
   ],
   "source": [
    "iftable.indices"
   ]
  },
  {
   "cell_type": "code",
   "execution_count": 89,
   "metadata": {},
   "outputs": [
    {
     "data": {
      "text/plain": [
       "{'ifAdminStatus',\n",
       " 'ifDescr',\n",
       " 'ifInDiscards',\n",
       " 'ifInErrors',\n",
       " 'ifInNUcastPkts',\n",
       " 'ifInOctets',\n",
       " 'ifInUcastPkts',\n",
       " 'ifInUnknownProtos',\n",
       " 'ifIndex',\n",
       " 'ifLastChange',\n",
       " 'ifMtu',\n",
       " 'ifOperStatus',\n",
       " 'ifOutDiscards',\n",
       " 'ifOutErrors',\n",
       " 'ifOutNUcastPkts',\n",
       " 'ifOutOctets',\n",
       " 'ifOutQLen',\n",
       " 'ifOutUcastPkts',\n",
       " 'ifPhysAddress',\n",
       " 'ifSpecific',\n",
       " 'ifSpeed',\n",
       " 'ifType'}"
      ]
     },
     "execution_count": 89,
     "metadata": {},
     "output_type": "execute_result"
    }
   ],
   "source": [
    "iftable.cols"
   ]
  },
  {
   "cell_type": "code",
   "execution_count": 69,
   "metadata": {},
   "outputs": [
    {
     "name": "stdout",
     "output_type": "stream",
     "text": [
      "'1'\n",
      "{'ifAdminStatus': '1',\n",
      " 'ifDescr': 'lo',\n",
      " 'ifInDiscards': '0',\n",
      " 'ifInErrors': '0',\n",
      " 'ifInNUcastPkts': '0',\n",
      " 'ifInOctets': '6369246',\n",
      " 'ifInUcastPkts': '4677',\n",
      " 'ifInUnknownProtos': '0',\n",
      " 'ifIndex': '1',\n",
      " 'ifLastChange': '0',\n",
      " 'ifMtu': '65536',\n",
      " 'ifOperStatus': '1',\n",
      " 'ifOutDiscards': '0',\n",
      " 'ifOutErrors': '0',\n",
      " 'ifOutNUcastPkts': '0',\n",
      " 'ifOutOctets': '6369246',\n",
      " 'ifOutQLen': '0',\n",
      " 'ifOutUcastPkts': '4677',\n",
      " 'ifPhysAddress': '',\n",
      " 'ifSpecific': '.0.0',\n",
      " 'ifSpeed': '10000000',\n",
      " 'ifType': '24'}\n",
      "'2'\n",
      "{'ifAdminStatus': '1',\n",
      " 'ifDescr': 'enp4s0',\n",
      " 'ifInDiscards': '0',\n",
      " 'ifInErrors': '0',\n",
      " 'ifInNUcastPkts': '0',\n",
      " 'ifInOctets': '0',\n",
      " 'ifInUcastPkts': '0',\n",
      " 'ifInUnknownProtos': '0',\n",
      " 'ifIndex': '2',\n",
      " 'ifLastChange': '0',\n",
      " 'ifMtu': '1500',\n",
      " 'ifOperStatus': '2',\n",
      " 'ifOutDiscards': '0',\n",
      " 'ifOutErrors': '0',\n",
      " 'ifOutNUcastPkts': '0',\n",
      " 'ifOutOctets': '0',\n",
      " 'ifOutQLen': '0',\n",
      " 'ifOutUcastPkts': '0',\n",
      " 'ifPhysAddress': '\\x1coe\\x8d\\x9aÒ',\n",
      " 'ifSpecific': '.0.0',\n",
      " 'ifSpeed': '0',\n",
      " 'ifType': '6'}\n",
      "'3'\n",
      "{'ifAdminStatus': '1',\n",
      " 'ifDescr': 'wlp0s18f2u5',\n",
      " 'ifInDiscards': '14',\n",
      " 'ifInErrors': '0',\n",
      " 'ifInNUcastPkts': '0',\n",
      " 'ifInOctets': '81380957',\n",
      " 'ifInUcastPkts': '74368',\n",
      " 'ifInUnknownProtos': '0',\n",
      " 'ifIndex': '3',\n",
      " 'ifLastChange': '0',\n",
      " 'ifMtu': '1500',\n",
      " 'ifOperStatus': '1',\n",
      " 'ifOutDiscards': '0',\n",
      " 'ifOutErrors': '0',\n",
      " 'ifOutNUcastPkts': '0',\n",
      " 'ifOutOctets': '4825753',\n",
      " 'ifOutQLen': '0',\n",
      " 'ifOutUcastPkts': '36025',\n",
      " 'ifPhysAddress': 'tÚ8ð\\x8f\\x81',\n",
      " 'ifSpecific': '.0.0',\n",
      " 'ifSpeed': '0',\n",
      " 'ifType': '6'}\n",
      "'4'\n",
      "{'ifAdminStatus': '1',\n",
      " 'ifDescr': 'docker0',\n",
      " 'ifInDiscards': '0',\n",
      " 'ifInErrors': '0',\n",
      " 'ifInNUcastPkts': '0',\n",
      " 'ifInOctets': '0',\n",
      " 'ifInUcastPkts': '0',\n",
      " 'ifInUnknownProtos': '0',\n",
      " 'ifIndex': '4',\n",
      " 'ifLastChange': '0',\n",
      " 'ifMtu': '1500',\n",
      " 'ifOperStatus': '2',\n",
      " 'ifOutDiscards': '0',\n",
      " 'ifOutErrors': '0',\n",
      " 'ifOutNUcastPkts': '0',\n",
      " 'ifOutOctets': '0',\n",
      " 'ifOutQLen': '0',\n",
      " 'ifOutUcastPkts': '0',\n",
      " 'ifPhysAddress': '\\x02BÕW$ß',\n",
      " 'ifSpecific': '.0.0',\n",
      " 'ifSpeed': '0',\n",
      " 'ifType': '6'}\n",
      "'5'\n",
      "{'ifAdminStatus': '1',\n",
      " 'ifDescr': 'br-f863e3fde3cb',\n",
      " 'ifInDiscards': '0',\n",
      " 'ifInErrors': '0',\n",
      " 'ifInNUcastPkts': '0',\n",
      " 'ifInOctets': '0',\n",
      " 'ifInUcastPkts': '0',\n",
      " 'ifInUnknownProtos': '0',\n",
      " 'ifIndex': '5',\n",
      " 'ifLastChange': '0',\n",
      " 'ifMtu': '1500',\n",
      " 'ifOperStatus': '2',\n",
      " 'ifOutDiscards': '0',\n",
      " 'ifOutErrors': '0',\n",
      " 'ifOutNUcastPkts': '0',\n",
      " 'ifOutOctets': '0',\n",
      " 'ifOutQLen': '0',\n",
      " 'ifOutUcastPkts': '0',\n",
      " 'ifPhysAddress': '\\x02B\\x89(\\x84B',\n",
      " 'ifSpecific': '.0.0',\n",
      " 'ifSpeed': '0',\n",
      " 'ifType': '6'}\n"
     ]
    }
   ],
   "source": [
    "import pprint\n",
    "for index,row in iftable.rows.items():\n",
    "    pprint.pprint(index)\n",
    "    pprint.pprint(row)"
   ]
  },
  {
   "cell_type": "markdown",
   "metadata": {},
   "source": [
    "A short-coming of **easysnmptable** is that it does not return the ``snmp_type`` for columns. A possible work-around is to use **easysnmp** to fetch a single column for a random index. This should probably be memoized or cached."
   ]
  },
  {
   "cell_type": "code",
   "execution_count": 72,
   "metadata": {},
   "outputs": [
    {
     "data": {
      "text/plain": [
       "'3'"
      ]
     },
     "execution_count": 72,
     "metadata": {},
     "output_type": "execute_result"
    }
   ],
   "source": [
    "random_index = iftable.indices.pop()\n",
    "iftable.indices.add(random_index)\n",
    "random_index"
   ]
  },
  {
   "cell_type": "code",
   "execution_count": 76,
   "metadata": {},
   "outputs": [
    {
     "data": {
      "text/plain": [
       "{'ifLastChange': 'TICKS',\n",
       " 'ifOutNUcastPkts': 'COUNTER',\n",
       " 'ifInDiscards': 'COUNTER',\n",
       " 'ifOutOctets': 'COUNTER',\n",
       " 'ifInErrors': 'COUNTER',\n",
       " 'ifPhysAddress': 'OCTETSTR',\n",
       " 'ifSpeed': 'GAUGE',\n",
       " 'ifSpecific': 'OBJECTID',\n",
       " 'ifOutQLen': 'GAUGE',\n",
       " 'ifDescr': 'OCTETSTR',\n",
       " 'ifInOctets': 'COUNTER',\n",
       " 'ifOutUcastPkts': 'COUNTER',\n",
       " 'ifAdminStatus': 'INTEGER',\n",
       " 'ifOperStatus': 'INTEGER',\n",
       " 'ifType': 'INTEGER',\n",
       " 'ifIndex': 'INTEGER',\n",
       " 'ifInNUcastPkts': 'COUNTER',\n",
       " 'ifInUcastPkts': 'COUNTER',\n",
       " 'ifInUnknownProtos': 'COUNTER',\n",
       " 'ifOutDiscards': 'COUNTER',\n",
       " 'ifOutErrors': 'COUNTER',\n",
       " 'ifMtu': 'INTEGER'}"
      ]
     },
     "execution_count": 76,
     "metadata": {},
     "output_type": "execute_result"
    }
   ],
   "source": [
    "column2type = {column: session.get('{}.{}'.format(column, random_index)).snmp_type for column in iftable.cols}\n",
    "column2type"
   ]
  },
  {
   "cell_type": "markdown",
   "metadata": {},
   "source": [
    "Such a table could be build by \"walking\" a device."
   ]
  },
  {
   "cell_type": "code",
   "execution_count": 82,
   "metadata": {},
   "outputs": [
    {
     "data": {
      "text/plain": [
       "{'ifIndex': 'INTEGER',\n",
       " 'ifDescr': 'OCTETSTR',\n",
       " 'ifType': 'INTEGER',\n",
       " 'ifMtu': 'INTEGER',\n",
       " 'ifSpeed': 'GAUGE',\n",
       " 'ifPhysAddress': 'OCTETSTR',\n",
       " 'ifAdminStatus': 'INTEGER',\n",
       " 'ifOperStatus': 'INTEGER',\n",
       " 'ifLastChange': 'TICKS',\n",
       " 'ifInOctets': 'COUNTER',\n",
       " 'ifInUcastPkts': 'COUNTER',\n",
       " 'ifInNUcastPkts': 'COUNTER',\n",
       " 'ifInDiscards': 'COUNTER',\n",
       " 'ifInErrors': 'COUNTER',\n",
       " 'ifInUnknownProtos': 'COUNTER',\n",
       " 'ifOutOctets': 'COUNTER',\n",
       " 'ifOutUcastPkts': 'COUNTER',\n",
       " 'ifOutNUcastPkts': 'COUNTER',\n",
       " 'ifOutDiscards': 'COUNTER',\n",
       " 'ifOutErrors': 'COUNTER',\n",
       " 'ifOutQLen': 'GAUGE',\n",
       " 'ifSpecific': 'OBJECTID'}"
      ]
     },
     "execution_count": 82,
     "metadata": {},
     "output_type": "execute_result"
    }
   ],
   "source": [
    "column2type = {item.oid: item.snmp_type for item in session.walk('IF-MIB::ifTable')}\n",
    "column2type"
   ]
  },
  {
   "cell_type": "code",
   "execution_count": null,
   "metadata": {},
   "outputs": [],
   "source": []
  }
 ],
 "metadata": {
  "kernelspec": {
   "display_name": "Python 3",
   "language": "python",
   "name": "python3"
  },
  "language_info": {
   "codemirror_mode": {
    "name": "ipython",
    "version": 3
   },
   "file_extension": ".py",
   "mimetype": "text/x-python",
   "name": "python",
   "nbconvert_exporter": "python",
   "pygments_lexer": "ipython3",
   "version": "3.7.4"
  }
 },
 "nbformat": 4,
 "nbformat_minor": 2
}
