{
 "cells": [
  {
   "cell_type": "markdown",
   "metadata": {},
   "source": [
    "# easysnmp"
   ]
  },
  {
   "cell_type": "code",
   "execution_count": 1,
   "metadata": {},
   "outputs": [],
   "source": [
    "import easysnmp"
   ]
  },
  {
   "cell_type": "code",
   "execution_count": 15,
   "metadata": {},
   "outputs": [],
   "source": [
    "session = easysnmp.Session(hostname='localhost', community='public', version=2, \n",
    "                           timeout=1, retries=1, use_sprint_value=True)\n",
    "# IMPORTANT: use_sprint_value=True for proper formatting of values"
   ]
  },
  {
   "cell_type": "code",
   "execution_count": 16,
   "metadata": {},
   "outputs": [
    {
     "data": {
      "text/plain": [
       "('sysLocation', '0', 'OCTETSTR', 'Unknown (edit /etc/snmp/snmpd.conf)')"
      ]
     },
     "execution_count": 16,
     "metadata": {},
     "output_type": "execute_result"
    }
   ],
   "source": [
    "location = session.get('sysLocation.0')\n",
    "location.oid, location.oid_index, location.snmp_type, location.value"
   ]
  },
  {
   "cell_type": "code",
   "execution_count": 17,
   "metadata": {},
   "outputs": [],
   "source": [
    "iftable = session.walk('IF-MIB::ifTable')"
   ]
  },
  {
   "cell_type": "code",
   "execution_count": 18,
   "metadata": {},
   "outputs": [
    {
     "name": "stdout",
     "output_type": "stream",
     "text": [
      "ifIndex 1 INTEGER 1 <class 'str'>\n",
      "ifIndex 2 INTEGER 2 <class 'str'>\n",
      "ifIndex 3 INTEGER 3 <class 'str'>\n",
      "ifIndex 8 INTEGER 8 <class 'str'>\n",
      "ifDescr 1 OCTETSTR lo <class 'str'>\n",
      "ifDescr 2 OCTETSTR enp4s0 <class 'str'>\n",
      "ifDescr 3 OCTETSTR cni-podman0 <class 'str'>\n",
      "ifDescr 8 OCTETSTR vethfbbb3749 <class 'str'>\n",
      "ifType 1 INTEGER softwareLoopback <class 'str'>\n",
      "ifType 2 INTEGER ethernetCsmacd <class 'str'>\n",
      "ifType 3 INTEGER ethernetCsmacd <class 'str'>\n",
      "ifType 8 INTEGER ethernetCsmacd <class 'str'>\n",
      "ifMtu 1 INTEGER 65536 <class 'str'>\n",
      "ifMtu 2 INTEGER 1500 <class 'str'>\n",
      "ifMtu 3 INTEGER 1500 <class 'str'>\n",
      "ifMtu 8 INTEGER 1500 <class 'str'>\n",
      "ifSpeed 1 GAUGE 10000000 <class 'str'>\n",
      "ifSpeed 2 GAUGE 100000000 <class 'str'>\n",
      "ifSpeed 3 GAUGE 0 <class 'str'>\n",
      "ifSpeed 8 GAUGE 4294967295 <class 'str'>\n",
      "ifPhysAddress 1 OCTETSTR  <class 'str'>\n",
      "ifPhysAddress 2 OCTETSTR 1c:6f:65:8d:9a:d2 <class 'str'>\n",
      "ifPhysAddress 3 OCTETSTR 36:37:96:62:8a:93 <class 'str'>\n",
      "ifPhysAddress 8 OCTETSTR 46:fc:ac:66:d8:39 <class 'str'>\n",
      "ifAdminStatus 1 INTEGER up <class 'str'>\n",
      "ifAdminStatus 2 INTEGER up <class 'str'>\n",
      "ifAdminStatus 3 INTEGER up <class 'str'>\n",
      "ifAdminStatus 8 INTEGER up <class 'str'>\n",
      "ifOperStatus 1 INTEGER up <class 'str'>\n",
      "ifOperStatus 2 INTEGER up <class 'str'>\n",
      "ifOperStatus 3 INTEGER up <class 'str'>\n",
      "ifOperStatus 8 INTEGER up <class 'str'>\n",
      "ifLastChange 1 TICKS 0:0:00:00.00 <class 'str'>\n",
      "ifLastChange 2 TICKS 0:0:00:00.00 <class 'str'>\n",
      "ifLastChange 3 TICKS 0:0:00:00.00 <class 'str'>\n",
      "ifLastChange 8 TICKS 0:0:00:00.00 <class 'str'>\n",
      "ifInOctets 1 COUNTER 78141774 <class 'str'>\n",
      "ifInOctets 2 COUNTER 3350064535 <class 'str'>\n",
      "ifInOctets 3 COUNTER 904712 <class 'str'>\n",
      "ifInOctets 8 COUNTER 22662 <class 'str'>\n",
      "ifInUcastPkts 1 COUNTER 51254 <class 'str'>\n",
      "ifInUcastPkts 2 COUNTER 38954332 <class 'str'>\n",
      "ifInUcastPkts 3 COUNTER 16845 <class 'str'>\n",
      "ifInUcastPkts 8 COUNTER 324 <class 'str'>\n",
      "ifInNUcastPkts 1 COUNTER 0 <class 'str'>\n",
      "ifInNUcastPkts 2 COUNTER 650379 <class 'str'>\n",
      "ifInNUcastPkts 3 COUNTER 0 <class 'str'>\n",
      "ifInNUcastPkts 8 COUNTER 0 <class 'str'>\n",
      "ifInDiscards 1 COUNTER 0 <class 'str'>\n",
      "ifInDiscards 2 COUNTER 39648 <class 'str'>\n",
      "ifInDiscards 3 COUNTER 0 <class 'str'>\n",
      "ifInDiscards 8 COUNTER 0 <class 'str'>\n",
      "ifInErrors 1 COUNTER 0 <class 'str'>\n",
      "ifInErrors 2 COUNTER 0 <class 'str'>\n",
      "ifInErrors 3 COUNTER 0 <class 'str'>\n",
      "ifInErrors 8 COUNTER 0 <class 'str'>\n",
      "ifInUnknownProtos 1 COUNTER 0 <class 'str'>\n",
      "ifInUnknownProtos 2 COUNTER 0 <class 'str'>\n",
      "ifInUnknownProtos 3 COUNTER 0 <class 'str'>\n",
      "ifInUnknownProtos 8 COUNTER 0 <class 'str'>\n",
      "ifOutOctets 1 COUNTER 78141774 <class 'str'>\n",
      "ifOutOctets 2 COUNTER 2580625409 <class 'str'>\n",
      "ifOutOctets 3 COUNTER 17102823 <class 'str'>\n",
      "ifOutOctets 8 COUNTER 116468 <class 'str'>\n",
      "ifOutUcastPkts 1 COUNTER 51254 <class 'str'>\n",
      "ifOutUcastPkts 2 COUNTER 35430735 <class 'str'>\n",
      "ifOutUcastPkts 3 COUNTER 22390 <class 'str'>\n",
      "ifOutUcastPkts 8 COUNTER 1615 <class 'str'>\n",
      "ifOutNUcastPkts 1 COUNTER 0 <class 'str'>\n",
      "ifOutNUcastPkts 2 COUNTER 0 <class 'str'>\n",
      "ifOutNUcastPkts 3 COUNTER 0 <class 'str'>\n",
      "ifOutNUcastPkts 8 COUNTER 0 <class 'str'>\n",
      "ifOutDiscards 1 COUNTER 0 <class 'str'>\n",
      "ifOutDiscards 2 COUNTER 0 <class 'str'>\n",
      "ifOutDiscards 3 COUNTER 0 <class 'str'>\n",
      "ifOutDiscards 8 COUNTER 0 <class 'str'>\n",
      "ifOutErrors 1 COUNTER 0 <class 'str'>\n",
      "ifOutErrors 2 COUNTER 0 <class 'str'>\n",
      "ifOutErrors 3 COUNTER 0 <class 'str'>\n",
      "ifOutErrors 8 COUNTER 0 <class 'str'>\n",
      "ifOutQLen 1 GAUGE 0 <class 'str'>\n",
      "ifOutQLen 2 GAUGE 0 <class 'str'>\n",
      "ifOutQLen 3 GAUGE 0 <class 'str'>\n",
      "ifOutQLen 8 GAUGE 0 <class 'str'>\n",
      "ifSpecific 1 OBJECTID zeroDotZero <class 'str'>\n",
      "ifSpecific 2 OBJECTID zeroDotZero <class 'str'>\n",
      "ifSpecific 3 OBJECTID zeroDotZero <class 'str'>\n",
      "ifSpecific 8 OBJECTID zeroDotZero <class 'str'>\n"
     ]
    }
   ],
   "source": [
    "for item in iftable:\n",
    "    print(item.oid, item.oid_index, item.snmp_type, item.value, type(item.value))"
   ]
  },
  {
   "cell_type": "markdown",
   "metadata": {},
   "source": [
    "The type of ``.value`` is always a Python string but the string returned in ``.snmp_type`` can be used to convert to the correct Python type.\n",
    "* INTEGER32\n",
    "* INTEGER\n",
    "* UNSIGNED32\n",
    "* GAUGE\n",
    "* IPADDR\n",
    "* OCTETSTR\n",
    "* TICKS\n",
    "* OPAQUE\n",
    "* OBJECTID\n",
    "* NETADDR\n",
    "* COUNTER64\n",
    "* NULL\n",
    "* BITS\n",
    "* UINTEGER"
   ]
  },
  {
   "cell_type": "code",
   "execution_count": 19,
   "metadata": {},
   "outputs": [
    {
     "data": {
      "text/plain": [
       "<SNMPVariable value='1c:6f:65:8d:9a:d2' (oid='ifPhysAddress', oid_index='2', snmp_type='OCTETSTR')>"
      ]
     },
     "execution_count": 19,
     "metadata": {},
     "output_type": "execute_result"
    }
   ],
   "source": [
    "macaddress = session.get('IF-MIB::ifPhysAddress.2')\n",
    "macaddress"
   ]
  },
  {
   "cell_type": "code",
   "execution_count": 20,
   "metadata": {},
   "outputs": [
    {
     "data": {
      "text/plain": [
       "<SNMPVariable value='2' (oid='ifIndex', oid_index='2', snmp_type='INTEGER')>"
      ]
     },
     "execution_count": 20,
     "metadata": {},
     "output_type": "execute_result"
    }
   ],
   "source": [
    "ifindex = session.get('IF-MIB::ifIndex.2')\n",
    "ifindex"
   ]
  },
  {
   "cell_type": "markdown",
   "metadata": {},
   "source": [
    "# easysnmptable"
   ]
  },
  {
   "cell_type": "code",
   "execution_count": 22,
   "metadata": {},
   "outputs": [],
   "source": [
    "import easysnmptable"
   ]
  },
  {
   "cell_type": "code",
   "execution_count": 23,
   "metadata": {},
   "outputs": [],
   "source": [
    "session = easysnmptable.Session(hostname='localhost', community='public', version=2,\n",
    "                               timeout=1, retries=1, use_sprint_value=True)\n",
    "# IMPORTANT: use_sprint_value=True for proper formatting of values)"
   ]
  },
  {
   "cell_type": "code",
   "execution_count": 24,
   "metadata": {},
   "outputs": [],
   "source": [
    "iftable = session.gettable('IF-MIB::ifTable')"
   ]
  },
  {
   "cell_type": "code",
   "execution_count": 25,
   "metadata": {},
   "outputs": [
    {
     "data": {
      "text/plain": [
       "{'1', '2', '3', '8'}"
      ]
     },
     "execution_count": 25,
     "metadata": {},
     "output_type": "execute_result"
    }
   ],
   "source": [
    "iftable.indices"
   ]
  },
  {
   "cell_type": "code",
   "execution_count": 26,
   "metadata": {},
   "outputs": [
    {
     "data": {
      "text/plain": [
       "{'ifAdminStatus',\n",
       " 'ifDescr',\n",
       " 'ifInDiscards',\n",
       " 'ifInErrors',\n",
       " 'ifInNUcastPkts',\n",
       " 'ifInOctets',\n",
       " 'ifInUcastPkts',\n",
       " 'ifInUnknownProtos',\n",
       " 'ifIndex',\n",
       " 'ifLastChange',\n",
       " 'ifMtu',\n",
       " 'ifOperStatus',\n",
       " 'ifOutDiscards',\n",
       " 'ifOutErrors',\n",
       " 'ifOutNUcastPkts',\n",
       " 'ifOutOctets',\n",
       " 'ifOutQLen',\n",
       " 'ifOutUcastPkts',\n",
       " 'ifPhysAddress',\n",
       " 'ifSpecific',\n",
       " 'ifSpeed',\n",
       " 'ifType'}"
      ]
     },
     "execution_count": 26,
     "metadata": {},
     "output_type": "execute_result"
    }
   ],
   "source": [
    "iftable.cols"
   ]
  },
  {
   "cell_type": "code",
   "execution_count": 27,
   "metadata": {},
   "outputs": [
    {
     "data": {
      "text/plain": [
       "<easysnmptable.table.Table at 0x7f92f15afb90>"
      ]
     },
     "execution_count": 27,
     "metadata": {},
     "output_type": "execute_result"
    }
   ],
   "source": [
    "iftable"
   ]
  },
  {
   "cell_type": "code",
   "execution_count": 28,
   "metadata": {},
   "outputs": [
    {
     "name": "stdout",
     "output_type": "stream",
     "text": [
      "'1'\n",
      "{'ifAdminStatus': 'up',\n",
      " 'ifDescr': 'lo',\n",
      " 'ifInDiscards': '0',\n",
      " 'ifInErrors': '0',\n",
      " 'ifInNUcastPkts': '0',\n",
      " 'ifInOctets': '78216562',\n",
      " 'ifInUcastPkts': '51573',\n",
      " 'ifInUnknownProtos': '0',\n",
      " 'ifIndex': '1',\n",
      " 'ifLastChange': '0:0:00:00.00',\n",
      " 'ifMtu': '65536',\n",
      " 'ifOperStatus': 'up',\n",
      " 'ifOutDiscards': '0',\n",
      " 'ifOutErrors': '0',\n",
      " 'ifOutNUcastPkts': '0',\n",
      " 'ifOutOctets': '78216562',\n",
      " 'ifOutQLen': '0',\n",
      " 'ifOutUcastPkts': '51573',\n",
      " 'ifPhysAddress': '',\n",
      " 'ifSpecific': 'zeroDotZero',\n",
      " 'ifSpeed': '10000000',\n",
      " 'ifType': 'softwareLoopback'}\n",
      "'2'\n",
      "{'ifAdminStatus': 'up',\n",
      " 'ifDescr': 'enp4s0',\n",
      " 'ifInDiscards': '39648',\n",
      " 'ifInErrors': '0',\n",
      " 'ifInNUcastPkts': '650437',\n",
      " 'ifInOctets': '3350199419',\n",
      " 'ifInUcastPkts': '38955261',\n",
      " 'ifInUnknownProtos': '0',\n",
      " 'ifIndex': '2',\n",
      " 'ifLastChange': '0:0:00:00.00',\n",
      " 'ifMtu': '1500',\n",
      " 'ifOperStatus': 'up',\n",
      " 'ifOutDiscards': '0',\n",
      " 'ifOutErrors': '0',\n",
      " 'ifOutNUcastPkts': '0',\n",
      " 'ifOutOctets': '2581107288',\n",
      " 'ifOutQLen': '0',\n",
      " 'ifOutUcastPkts': '35431426',\n",
      " 'ifPhysAddress': '1c:6f:65:8d:9a:d2',\n",
      " 'ifSpecific': 'zeroDotZero',\n",
      " 'ifSpeed': '100000000',\n",
      " 'ifType': 'ethernetCsmacd'}\n",
      "'3'\n",
      "{'ifAdminStatus': 'up',\n",
      " 'ifDescr': 'cni-podman0',\n",
      " 'ifInDiscards': '0',\n",
      " 'ifInErrors': '0',\n",
      " 'ifInNUcastPkts': '0',\n",
      " 'ifInOctets': '904712',\n",
      " 'ifInUcastPkts': '16845',\n",
      " 'ifInUnknownProtos': '0',\n",
      " 'ifIndex': '3',\n",
      " 'ifLastChange': '0:0:00:00.00',\n",
      " 'ifMtu': '1500',\n",
      " 'ifOperStatus': 'up',\n",
      " 'ifOutDiscards': '0',\n",
      " 'ifOutErrors': '0',\n",
      " 'ifOutNUcastPkts': '0',\n",
      " 'ifOutOctets': '17102823',\n",
      " 'ifOutQLen': '0',\n",
      " 'ifOutUcastPkts': '22390',\n",
      " 'ifPhysAddress': '36:37:96:62:8a:93',\n",
      " 'ifSpecific': 'zeroDotZero',\n",
      " 'ifSpeed': '0',\n",
      " 'ifType': 'ethernetCsmacd'}\n",
      "'8'\n",
      "{'ifAdminStatus': 'up',\n",
      " 'ifDescr': 'vethfbbb3749',\n",
      " 'ifInDiscards': '0',\n",
      " 'ifInErrors': '0',\n",
      " 'ifInNUcastPkts': '0',\n",
      " 'ifInOctets': '22662',\n",
      " 'ifInUcastPkts': '324',\n",
      " 'ifInUnknownProtos': '0',\n",
      " 'ifIndex': '8',\n",
      " 'ifLastChange': '0:0:00:00.00',\n",
      " 'ifMtu': '1500',\n",
      " 'ifOperStatus': 'up',\n",
      " 'ifOutDiscards': '0',\n",
      " 'ifOutErrors': '0',\n",
      " 'ifOutNUcastPkts': '0',\n",
      " 'ifOutOctets': '116468',\n",
      " 'ifOutQLen': '0',\n",
      " 'ifOutUcastPkts': '1615',\n",
      " 'ifPhysAddress': '46:fc:ac:66:d8:39',\n",
      " 'ifSpecific': 'zeroDotZero',\n",
      " 'ifSpeed': '4294967295',\n",
      " 'ifType': 'ethernetCsmacd'}\n"
     ]
    }
   ],
   "source": [
    "import pprint\n",
    "for index,row in iftable.rows.items():\n",
    "    pprint.pprint(index)\n",
    "    pprint.pprint(row)"
   ]
  },
  {
   "cell_type": "markdown",
   "metadata": {},
   "source": [
    "A short-coming of **easysnmptable** is that it does not return the ``snmp_type`` for columns. A possible work-around is to use **easysnmp** to fetch a single column for a random index. This should probably be memoized or cached."
   ]
  },
  {
   "cell_type": "code",
   "execution_count": 72,
   "metadata": {},
   "outputs": [
    {
     "data": {
      "text/plain": [
       "'3'"
      ]
     },
     "execution_count": 72,
     "metadata": {},
     "output_type": "execute_result"
    }
   ],
   "source": [
    "random_index = iftable.indices.pop()\n",
    "iftable.indices.add(random_index)\n",
    "random_index"
   ]
  },
  {
   "cell_type": "code",
   "execution_count": 76,
   "metadata": {},
   "outputs": [
    {
     "data": {
      "text/plain": [
       "{'ifLastChange': 'TICKS',\n",
       " 'ifOutNUcastPkts': 'COUNTER',\n",
       " 'ifInDiscards': 'COUNTER',\n",
       " 'ifOutOctets': 'COUNTER',\n",
       " 'ifInErrors': 'COUNTER',\n",
       " 'ifPhysAddress': 'OCTETSTR',\n",
       " 'ifSpeed': 'GAUGE',\n",
       " 'ifSpecific': 'OBJECTID',\n",
       " 'ifOutQLen': 'GAUGE',\n",
       " 'ifDescr': 'OCTETSTR',\n",
       " 'ifInOctets': 'COUNTER',\n",
       " 'ifOutUcastPkts': 'COUNTER',\n",
       " 'ifAdminStatus': 'INTEGER',\n",
       " 'ifOperStatus': 'INTEGER',\n",
       " 'ifType': 'INTEGER',\n",
       " 'ifIndex': 'INTEGER',\n",
       " 'ifInNUcastPkts': 'COUNTER',\n",
       " 'ifInUcastPkts': 'COUNTER',\n",
       " 'ifInUnknownProtos': 'COUNTER',\n",
       " 'ifOutDiscards': 'COUNTER',\n",
       " 'ifOutErrors': 'COUNTER',\n",
       " 'ifMtu': 'INTEGER'}"
      ]
     },
     "execution_count": 76,
     "metadata": {},
     "output_type": "execute_result"
    }
   ],
   "source": [
    "column2type = {column: session.get('{}.{}'.format(column, random_index)).snmp_type for column in iftable.cols}\n",
    "column2type"
   ]
  },
  {
   "cell_type": "markdown",
   "metadata": {},
   "source": [
    "Such a table could be build by \"walking\" a device."
   ]
  },
  {
   "cell_type": "code",
   "execution_count": 82,
   "metadata": {},
   "outputs": [
    {
     "data": {
      "text/plain": [
       "{'ifIndex': 'INTEGER',\n",
       " 'ifDescr': 'OCTETSTR',\n",
       " 'ifType': 'INTEGER',\n",
       " 'ifMtu': 'INTEGER',\n",
       " 'ifSpeed': 'GAUGE',\n",
       " 'ifPhysAddress': 'OCTETSTR',\n",
       " 'ifAdminStatus': 'INTEGER',\n",
       " 'ifOperStatus': 'INTEGER',\n",
       " 'ifLastChange': 'TICKS',\n",
       " 'ifInOctets': 'COUNTER',\n",
       " 'ifInUcastPkts': 'COUNTER',\n",
       " 'ifInNUcastPkts': 'COUNTER',\n",
       " 'ifInDiscards': 'COUNTER',\n",
       " 'ifInErrors': 'COUNTER',\n",
       " 'ifInUnknownProtos': 'COUNTER',\n",
       " 'ifOutOctets': 'COUNTER',\n",
       " 'ifOutUcastPkts': 'COUNTER',\n",
       " 'ifOutNUcastPkts': 'COUNTER',\n",
       " 'ifOutDiscards': 'COUNTER',\n",
       " 'ifOutErrors': 'COUNTER',\n",
       " 'ifOutQLen': 'GAUGE',\n",
       " 'ifSpecific': 'OBJECTID'}"
      ]
     },
     "execution_count": 82,
     "metadata": {},
     "output_type": "execute_result"
    }
   ],
   "source": [
    "column2type = {item.oid: item.snmp_type for item in session.walk('IF-MIB::ifTable')}\n",
    "column2type"
   ]
  },
  {
   "cell_type": "code",
   "execution_count": null,
   "metadata": {},
   "outputs": [],
   "source": []
  }
 ],
 "metadata": {
  "kernelspec": {
   "display_name": "Python 3",
   "language": "python",
   "name": "python3"
  },
  "language_info": {
   "codemirror_mode": {
    "name": "ipython",
    "version": 3
   },
   "file_extension": ".py",
   "mimetype": "text/x-python",
   "name": "python",
   "nbconvert_exporter": "python",
   "pygments_lexer": "ipython3",
   "version": "3.7.6"
  }
 },
 "nbformat": 4,
 "nbformat_minor": 2
}
