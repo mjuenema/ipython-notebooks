{
 "cells": [
  {
   "cell_type": "markdown",
   "metadata": {},
   "source": [
    "# Parsing SNMP MIBs with PySMI"
   ]
  },
  {
   "cell_type": "code",
   "execution_count": 57,
   "metadata": {},
   "outputs": [
    {
     "name": "stdout",
     "output_type": "stream",
     "text": [
      "Collecting pysmi\n",
      "  Using cached pysmi-0.3.4-py2.py3-none-any.whl (80 kB)\n",
      "Requirement already satisfied: ply in /home/mjuenemann/.virtualenvs/pysmi/lib/python3.7/site-packages (from pysmi) (3.11)\n",
      "Installing collected packages: pysmi\n",
      "Successfully installed pysmi-0.3.4\n"
     ]
    }
   ],
   "source": [
    "!pip3 install pysmi"
   ]
  },
  {
   "cell_type": "markdown",
   "metadata": {},
   "source": [
    "## Reader\n",
    "We are creating a **Readers** for local MIB files."
   ]
  },
  {
   "cell_type": "code",
   "execution_count": 58,
   "metadata": {},
   "outputs": [],
   "source": [
    "from pysmi.reader import FileReader, HttpReader\n",
    "\n",
    "reader = FileReader('/tmp/SNMP-MIBs', recursive=True, ignoreErrors=True)"
   ]
  },
  {
   "cell_type": "markdown",
   "metadata": {},
   "source": [
    "## Parser\n",
    "There are different **Parsers** for (strict) SMIv1 and SMIv2 and one that accepts \"relaxed\" syntax. Given that few SNMP MIBs are syntactically correct, a \"relaxed\" parser is instantiated."
   ]
  },
  {
   "cell_type": "code",
   "execution_count": 59,
   "metadata": {},
   "outputs": [],
   "source": [
    "from pysmi.parser.dialect import smiV1Relaxed\n",
    "from pysmi.parser.smi import parserFactory\n",
    "\n",
    "Parser = parserFactory(**smiV1Relaxed)\n",
    "parser = Parser()"
   ]
  },
  {
   "cell_type": "markdown",
   "metadata": {},
   "source": [
    "The ``SmiStarParser()`` is a convenient short-cut for the same thing."
   ]
  },
  {
   "cell_type": "code",
   "execution_count": 60,
   "metadata": {},
   "outputs": [],
   "source": [
    "from pysmi.parser import SmiStarParser\n",
    "parser = SmiStarParser()"
   ]
  },
  {
   "cell_type": "markdown",
   "metadata": {},
   "source": [
    "## Code Generator\n",
    "The are **Code Generators** for JSON and PySNMP-style MIBs."
   ]
  },
  {
   "cell_type": "code",
   "execution_count": 61,
   "metadata": {},
   "outputs": [],
   "source": [
    "from pysmi.codegen import JsonCodeGen\n",
    "codegen = JsonCodeGen()"
   ]
  },
  {
   "cell_type": "markdown",
   "metadata": {},
   "source": [
    "## Writer\n",
    "The **Writer** gets the output from the **Generator**. The ``FileWriter(path)`` can be used to save the output to a file inside of ``path``. Alternatively the ``CallbackWriter()`` can be used for further processing of the output. The code below shows how it works although in this example it operates similar to the ``FileWriter()``."
   ]
  },
  {
   "cell_type": "code",
   "execution_count": 62,
   "metadata": {},
   "outputs": [],
   "source": [
    "from pysmi.writer import CallbackWriter\n",
    "\n",
    "def callback(mibname, doc, context):\n",
    "    with open('/tmp/SNMP-MIBs-JSON/{}.json'.format(mibname), 'wt') as fp:\n",
    "        fp.write(doc)\n",
    "    \n",
    "writer = CallbackWriter(callback)"
   ]
  },
  {
   "cell_type": "markdown",
   "metadata": {},
   "source": [
    "## Compiler\n",
    "The **Compiler** ties the **Parser**, **Code Generator** and **Writer** together."
   ]
  },
  {
   "cell_type": "code",
   "execution_count": 63,
   "metadata": {},
   "outputs": [],
   "source": [
    "from pysmi.compiler import MibCompiler\n",
    "\n",
    "compiler = MibCompiler(parser, codegen, writer)"
   ]
  },
  {
   "cell_type": "markdown",
   "metadata": {},
   "source": [
    "The **reader** is added as source to the **Compiler**."
   ]
  },
  {
   "cell_type": "code",
   "execution_count": 64,
   "metadata": {},
   "outputs": [
    {
     "data": {
      "text/plain": [
       "<pysmi.compiler.MibCompiler at 0x7f9e4c967f50>"
      ]
     },
     "execution_count": 64,
     "metadata": {},
     "output_type": "execute_result"
    }
   ],
   "source": [
    "compiler.addSources(reader)"
   ]
  },
  {
   "cell_type": "markdown",
   "metadata": {},
   "source": [
    "Finally the **Compiler** can be \"run\" against some MIB names(!)."
   ]
  },
  {
   "cell_type": "code",
   "execution_count": 65,
   "metadata": {},
   "outputs": [],
   "source": [
    "status = compiler.compile('IF-MIB', 'VRRP-MIB')"
   ]
  },
  {
   "cell_type": "markdown",
   "metadata": {},
   "source": [
    "The ``status`` shows that the imported MIBs were also compiled."
   ]
  },
  {
   "cell_type": "code",
   "execution_count": 66,
   "metadata": {},
   "outputs": [
    {
     "data": {
      "text/plain": [
       "{'IF-MIB': 'compiled',\n",
       " 'VRRP-MIB': 'compiled',\n",
       " 'IANAifType-MIB': 'compiled',\n",
       " 'SNMPv2-CONF': 'compiled',\n",
       " 'SNMPv2-MIB': 'compiled',\n",
       " 'SNMPv2-SMI': 'compiled',\n",
       " 'SNMPv2-TC': 'compiled'}"
      ]
     },
     "execution_count": 66,
     "metadata": {},
     "output_type": "execute_result"
    }
   ],
   "source": [
    "status"
   ]
  },
  {
   "cell_type": "markdown",
   "metadata": {},
   "source": [
    "The **Writer** created the JSON files."
   ]
  },
  {
   "cell_type": "code",
   "execution_count": 67,
   "metadata": {},
   "outputs": [
    {
     "name": "stdout",
     "output_type": "stream",
     "text": [
      "IANAifType-MIB.json    IP-MIB.json\t SNMPv2-SMI.json\r\n",
      "IF-MIB.json\t       SNMPv2-CONF.json  SNMPv2-TC.json\r\n",
      "INET-ADDRESS-MIB.json  SNMPv2-MIB.json\t VRRP-MIB.json\r\n"
     ]
    }
   ],
   "source": [
    "!ls /tmp/SNMP-MIBs-JSON"
   ]
  },
  {
   "cell_type": "code",
   "execution_count": 68,
   "metadata": {},
   "outputs": [
    {
     "name": "stdout",
     "output_type": "stream",
     "text": [
      "{\r\n",
      "  \"imports\": {\r\n",
      "    \"class\": \"imports\",\r\n",
      "    \"IANAifType-MIB\": [\r\n",
      "      \"IANAifType\"\r\n",
      "    ],\r\n",
      "    \"SNMPv2-CONF\": [\r\n",
      "      \"MODULE-COMPLIANCE\",\r\n",
      "      \"NOTIFICATION-GROUP\",\r\n",
      "      \"OBJECT-GROUP\"\r\n"
     ]
    }
   ],
   "source": [
    "!head /tmp/SNMP-MIBs-JSON/IF-MIB.json"
   ]
  },
  {
   "cell_type": "markdown",
   "metadata": {},
   "source": [
    "The ``status`` will also show if a MIB could not be processed."
   ]
  },
  {
   "cell_type": "code",
   "execution_count": 69,
   "metadata": {},
   "outputs": [
    {
     "data": {
      "text/plain": [
       "{'MISSING-MIB': 'missing'}"
      ]
     },
     "execution_count": 69,
     "metadata": {},
     "output_type": "execute_result"
    }
   ],
   "source": [
    "status = compiler.compile('MISSING-MIB')\n",
    "status"
   ]
  }
 ],
 "metadata": {
  "kernelspec": {
   "display_name": "Python 3",
   "language": "python",
   "name": "python3"
  },
  "language_info": {
   "codemirror_mode": {
    "name": "ipython",
    "version": 3
   },
   "file_extension": ".py",
   "mimetype": "text/x-python",
   "name": "python",
   "nbconvert_exporter": "python",
   "pygments_lexer": "ipython3",
   "version": "3.7.6"
  }
 },
 "nbformat": 4,
 "nbformat_minor": 4
}
