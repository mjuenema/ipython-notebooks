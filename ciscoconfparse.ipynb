{
 "cells": [
  {
   "cell_type": "markdown",
   "metadata": {},
   "source": [
    "# ciscoconfparse\n",
    "\n",
    "[ciscoconfparse](https://pypi.org/project/ciscoconfparse/) is a Python library for querying Cisco-style configurations. \n",
    "The purpose of this workbook is to examine some features that are, in my view, not very well presented in the official documentation."
   ]
  },
  {
   "cell_type": "code",
   "execution_count": 227,
   "metadata": {},
   "outputs": [],
   "source": [
    "# The line below can be ignored but I didn't set up my environment properly \n",
    "import sys ; sys.path.append('/home/mjuenemann/.virtualenvs/ciscoconfparse/lib/python3.6/site-packages')"
   ]
  },
  {
   "cell_type": "code",
   "execution_count": 228,
   "metadata": {},
   "outputs": [],
   "source": [
    "import ciscoconfparse"
   ]
  },
  {
   "cell_type": "markdown",
   "metadata": {},
   "source": [
    "I am going to use a very stripped down version of the [Secure IOS Template by Team Cymru](https://www.cymru.com/Documents/secure-ios-template-65.html). This is not a fully functional IOS configuration!"
   ]
  },
  {
   "cell_type": "code",
   "execution_count": 229,
   "metadata": {},
   "outputs": [],
   "source": [
    "CONFIG = \"\"\"\n",
    "!\n",
    "hostname router01\n",
    "!\n",
    "tacacs-server host 192.0.2.34\n",
    "tacacs-server key cheezit\n",
    "!\n",
    "interface Ethernet2/0\n",
    " description Unprotected interface, facing towards Internet\n",
    " ip address 192.0.2.14 255.255.255.240\n",
    " no ip unreachables\n",
    " ntp disable\n",
    " no mop enable\n",
    " mtu 900\n",
    "!\n",
    "interface Ethernet2/1\n",
    " description Protected interface, facing towards DMZ\n",
    " ip address 192.0.2.17 255.255.255.240\n",
    " no mop enable\n",
    "\"\"\""
   ]
  },
  {
   "cell_type": "markdown",
   "metadata": {},
   "source": [
    "First, he configuration must be parsed by creating an instance of ``ciscoconfparse.CiscoConfParse()``. The class expects either a file object or a *list* of configuration lines."
   ]
  },
  {
   "cell_type": "code",
   "execution_count": 230,
   "metadata": {},
   "outputs": [
    {
     "data": {
      "text/plain": [
       "<CiscoConfParse: 18 lines / syntax: ios / comment delimiter: '!' / factory: False>"
      ]
     },
     "execution_count": 230,
     "metadata": {},
     "output_type": "execute_result"
    }
   ],
   "source": [
    "config = ciscoconfparse.CiscoConfParse(CONFIG.split('\\n'))\n",
    "config"
   ]
  },
  {
   "cell_type": "markdown",
   "metadata": {},
   "source": [
    "When [``CiscoConfParse()``](http://www.pennington.net/py/ciscoconfparse/api_CiscoConfParse.html) reads a configuration, it stores parent-child relationships as a special [``IOSCfgLine``](http://www.pennington.net/py/ciscoconfparse/api_IOSCfgLine.html) object. ``IOSCfgLine`` instances are returned when one queries the parsed configuration."
   ]
  },
  {
   "cell_type": "markdown",
   "metadata": {},
   "source": [
    "## Finding lines matching a regular expression"
   ]
  },
  {
   "cell_type": "code",
   "execution_count": 231,
   "metadata": {},
   "outputs": [
    {
     "data": {
      "text/plain": [
       "[<IOSCfgLine # 3 'tacacs-server host 192.0.2.34'>,\n",
       " <IOSCfgLine # 4 'tacacs-server key cheezit'>]"
      ]
     },
     "execution_count": 231,
     "metadata": {},
     "output_type": "execute_result"
    }
   ],
   "source": [
    "tacacs_lines = config.find_objects(r'^tacacs')\n",
    "tacacs_lines"
   ]
  },
  {
   "cell_type": "code",
   "execution_count": 232,
   "metadata": {},
   "outputs": [
    {
     "data": {
      "text/plain": [
       "ciscoconfparse.models_cisco.IOSCfgLine"
      ]
     },
     "execution_count": 232,
     "metadata": {},
     "output_type": "execute_result"
    }
   ],
   "source": [
    "first_tacacs_line = tacacs_lines[0]\n",
    "type(first_tacacs_line)"
   ]
  },
  {
   "cell_type": "markdown",
   "metadata": {},
   "source": [
    "``IOSCfgLine`` instances have several useful attributes."
   ]
  },
  {
   "cell_type": "code",
   "execution_count": 233,
   "metadata": {},
   "outputs": [
    {
     "data": {
      "text/plain": [
       "3"
      ]
     },
     "execution_count": 233,
     "metadata": {},
     "output_type": "execute_result"
    }
   ],
   "source": [
    "first_tacacs_line.linenum"
   ]
  },
  {
   "cell_type": "code",
   "execution_count": 234,
   "metadata": {},
   "outputs": [
    {
     "data": {
      "text/plain": [
       "0"
      ]
     },
     "execution_count": 234,
     "metadata": {},
     "output_type": "execute_result"
    }
   ],
   "source": [
    "first_tacacs_line.indent"
   ]
  },
  {
   "cell_type": "code",
   "execution_count": 235,
   "metadata": {},
   "outputs": [
    {
     "data": {
      "text/plain": [
       "'tacacs-server host 192.0.2.34'"
      ]
     },
     "execution_count": 235,
     "metadata": {},
     "output_type": "execute_result"
    }
   ],
   "source": [
    " first_tacacs_line.text"
   ]
  },
  {
   "cell_type": "markdown",
   "metadata": {},
   "source": [
    "## Finding sections with children\n",
    "The next example finds interfaces that have NTP disabled."
   ]
  },
  {
   "cell_type": "code",
   "execution_count": 236,
   "metadata": {},
   "outputs": [
    {
     "data": {
      "text/plain": [
       "[<IOSCfgLine # 6 'interface Ethernet2/0'>]"
      ]
     },
     "execution_count": 236,
     "metadata": {},
     "output_type": "execute_result"
    }
   ],
   "source": [
    "interfaces_with_ntp_disabled = config.find_objects_w_child(r'^interface', r'ntp disable')\n",
    "interfaces_with_ntp_disabled"
   ]
  },
  {
   "cell_type": "markdown",
   "metadata": {},
   "source": [
    "The ``.text`` attribute only returns the matching line whereas the ``.ioscfg`` attributes includes all children lines as a list."
   ]
  },
  {
   "cell_type": "code",
   "execution_count": 237,
   "metadata": {},
   "outputs": [
    {
     "data": {
      "text/plain": [
       "'interface Ethernet2/0'"
      ]
     },
     "execution_count": 237,
     "metadata": {},
     "output_type": "execute_result"
    }
   ],
   "source": [
    "interfaces_with_ntp_disabled[0].text"
   ]
  },
  {
   "cell_type": "code",
   "execution_count": 238,
   "metadata": {},
   "outputs": [
    {
     "data": {
      "text/plain": [
       "['interface Ethernet2/0',\n",
       " ' description Unprotected interface, facing towards Internet',\n",
       " ' ip address 192.0.2.14 255.255.255.240',\n",
       " ' no ip unreachables',\n",
       " ' ntp disable',\n",
       " ' no mop enable',\n",
       " ' mtu 900']"
      ]
     },
     "execution_count": 238,
     "metadata": {},
     "output_type": "execute_result"
    }
   ],
   "source": [
    "interfaces_with_ntp_disabled[0].ioscfg"
   ]
  },
  {
   "cell_type": "markdown",
   "metadata": {},
   "source": [
    "## Finding sections without children\n",
    "The next example finds interfaces that have NTP *not* disabled."
   ]
  },
  {
   "cell_type": "code",
   "execution_count": 239,
   "metadata": {},
   "outputs": [
    {
     "data": {
      "text/plain": [
       "[<IOSCfgLine # 14 'interface Ethernet2/1'>]"
      ]
     },
     "execution_count": 239,
     "metadata": {},
     "output_type": "execute_result"
    }
   ],
   "source": [
    "interfaces_with_ntp_not_disabled = config.find_objects_wo_child(r'^interface', r'ntp disable')\n",
    "interfaces_with_ntp_not_disabled"
   ]
  },
  {
   "cell_type": "code",
   "execution_count": 240,
   "metadata": {},
   "outputs": [
    {
     "data": {
      "text/plain": [
       "['interface Ethernet2/1',\n",
       " ' description Protected interface, facing towards DMZ',\n",
       " ' ip address 192.0.2.17 255.255.255.240',\n",
       " ' no mop enable']"
      ]
     },
     "execution_count": 240,
     "metadata": {},
     "output_type": "execute_result"
    }
   ],
   "source": [
    "interfaces_with_ntp_not_disabled[0].ioscfg"
   ]
  },
  {
   "cell_type": "markdown",
   "metadata": {},
   "source": [
    "## Finding sections with all children\n",
    "The next example finds interfaces that have IP-Unreachables *and* MOP disabled."
   ]
  },
  {
   "cell_type": "code",
   "execution_count": 241,
   "metadata": {},
   "outputs": [
    {
     "data": {
      "text/plain": [
       "[<IOSCfgLine # 6 'interface Ethernet2/0'>]"
      ]
     },
     "execution_count": 241,
     "metadata": {},
     "output_type": "execute_result"
    }
   ],
   "source": [
    "results = config.find_objects_w_all_children(r'interface', [r'no ip unreachables', r'no mop enable'])\n",
    "results"
   ]
  },
  {
   "cell_type": "code",
   "execution_count": 242,
   "metadata": {},
   "outputs": [
    {
     "data": {
      "text/plain": [
       "['interface Ethernet2/0',\n",
       " ' description Unprotected interface, facing towards Internet',\n",
       " ' ip address 192.0.2.14 255.255.255.240',\n",
       " ' no ip unreachables',\n",
       " ' ntp disable',\n",
       " ' no mop enable',\n",
       " ' mtu 900']"
      ]
     },
     "execution_count": 242,
     "metadata": {},
     "output_type": "execute_result"
    }
   ],
   "source": [
    "results[0].ioscfg"
   ]
  },
  {
   "cell_type": "markdown",
   "metadata": {},
   "source": [
    "## Finding lines with parents\n",
    "The ``.find_objects_w_parents()`` methods returns children and not their parents."
   ]
  },
  {
   "cell_type": "code",
   "execution_count": 243,
   "metadata": {},
   "outputs": [
    {
     "data": {
      "text/plain": [
       "[<IOSCfgLine # 11 ' no mop enable' (parent is # 6)>,\n",
       " <IOSCfgLine # 17 ' no mop enable' (parent is # 14)>]"
      ]
     },
     "execution_count": 243,
     "metadata": {},
     "output_type": "execute_result"
    }
   ],
   "source": [
    "results = config.find_objects_w_parents(r'^interface', 'no mop enable')\n",
    "results"
   ]
  },
  {
   "cell_type": "markdown",
   "metadata": {},
   "source": [
    "## Deleting lines"
   ]
  },
  {
   "cell_type": "markdown",
   "metadata": {},
   "source": [
    "This can be handy in combination with the ``IOSCfgLine.delete()`` method which I haven't covered yet. \n",
    "\n",
    "``IOSCfgLine`` objects provide several methods for changing an existing configuration. Let's delete all ``no mop enable`` lines."
   ]
  },
  {
   "cell_type": "code",
   "execution_count": 244,
   "metadata": {},
   "outputs": [],
   "source": [
    "for result in results:\n",
    "    result.delete()\n",
    "# Call .commit() after changing the configuration\n",
    "config.commit()"
   ]
  },
  {
   "cell_type": "markdown",
   "metadata": {},
   "source": [
    "The ``no mop enable`` lines are now missing."
   ]
  },
  {
   "cell_type": "code",
   "execution_count": 245,
   "metadata": {},
   "outputs": [
    {
     "data": {
      "text/plain": [
       "['!',\n",
       " 'hostname router01',\n",
       " '!',\n",
       " 'tacacs-server host 192.0.2.34',\n",
       " 'tacacs-server key cheezit',\n",
       " '!',\n",
       " 'interface Ethernet2/0',\n",
       " ' description Unprotected interface, facing towards Internet',\n",
       " ' ip address 192.0.2.14 255.255.255.240',\n",
       " ' no ip unreachables',\n",
       " ' ntp disable',\n",
       " ' mtu 900',\n",
       " '!',\n",
       " 'interface Ethernet2/1',\n",
       " ' description Protected interface, facing towards DMZ',\n",
       " ' ip address 192.0.2.17 255.255.255.240']"
      ]
     },
     "execution_count": 245,
     "metadata": {},
     "output_type": "execute_result"
    }
   ],
   "source": [
    "config.ioscfg"
   ]
  },
  {
   "cell_type": "markdown",
   "metadata": {},
   "source": [
    "## Adding lines\n",
    "Let's ensure that the configuration uses an NTP server."
   ]
  },
  {
   "cell_type": "code",
   "execution_count": 246,
   "metadata": {},
   "outputs": [
    {
     "data": {
      "text/plain": [
       "['!',\n",
       " 'hostname router01',\n",
       " '!',\n",
       " 'tacacs-server host 192.0.2.34',\n",
       " 'tacacs-server key cheezit',\n",
       " '!',\n",
       " 'interface Ethernet2/0',\n",
       " ' description Unprotected interface, facing towards Internet',\n",
       " ' ip address 192.0.2.14 255.255.255.240',\n",
       " ' no ip unreachables',\n",
       " ' ntp disable',\n",
       " ' mtu 900',\n",
       " '!',\n",
       " 'interface Ethernet2/1',\n",
       " ' description Protected interface, facing towards DMZ',\n",
       " ' ip address 192.0.2.17 255.255.255.240',\n",
       " 'ntp server 192.168.1.1']"
      ]
     },
     "execution_count": 246,
     "metadata": {},
     "output_type": "execute_result"
    }
   ],
   "source": [
    "config.append_line('ntp server 192.168.1.1')\n",
    "\n",
    "# Call .commit() before searching again!!!\n",
    "config.commit()\n",
    "config.ioscfg"
   ]
  },
  {
   "cell_type": "markdown",
   "metadata": {},
   "source": [
    "## Adding lines to sections\n",
    "Let's ensure that all Ethernet interfaces have an explicit MTU of 1500 configured. This is a two-step process were first any existing MTU lines are deleted and then the correct ones are added."
   ]
  },
  {
   "cell_type": "code",
   "execution_count": 247,
   "metadata": {},
   "outputs": [],
   "source": [
    "# Delete all existing MTU lines.\n",
    "for interface in config.find_objects(r'^interface.+Ethernet'):\n",
    "    interface.delete_children_matching('mtu \\d+')\n",
    "config.commit()\n",
    "\n",
    "# Add the correct MTU. Note the use of the correct indentation value for children.\n",
    "for interface in config.find_objects(r'^interface.+Ethernet'):\n",
    "    interface.append_to_family('mtu 1500', indent=interface.child_indent)\n",
    "config.commit()"
   ]
  },
  {
   "cell_type": "code",
   "execution_count": 248,
   "metadata": {},
   "outputs": [
    {
     "data": {
      "text/plain": [
       "['!',\n",
       " 'hostname router01',\n",
       " '!',\n",
       " 'tacacs-server host 192.0.2.34',\n",
       " 'tacacs-server key cheezit',\n",
       " '!',\n",
       " 'interface Ethernet2/0',\n",
       " ' description Unprotected interface, facing towards Internet',\n",
       " ' ip address 192.0.2.14 255.255.255.240',\n",
       " ' no ip unreachables',\n",
       " ' ntp disable',\n",
       " ' mtu 1500',\n",
       " '!',\n",
       " 'interface Ethernet2/1',\n",
       " ' description Protected interface, facing towards DMZ',\n",
       " ' ip address 192.0.2.17 255.255.255.240',\n",
       " ' mtu 1500',\n",
       " 'ntp server 192.168.1.1']"
      ]
     },
     "execution_count": 248,
     "metadata": {},
     "output_type": "execute_result"
    }
   ],
   "source": [
    "config.ioscfg"
   ]
  },
  {
   "cell_type": "code",
   "execution_count": null,
   "metadata": {},
   "outputs": [],
   "source": []
  }
 ],
 "metadata": {
  "kernelspec": {
   "display_name": "Python 3",
   "language": "python",
   "name": "python3"
  },
  "language_info": {
   "codemirror_mode": {
    "name": "ipython",
    "version": 3
   },
   "file_extension": ".py",
   "mimetype": "text/x-python",
   "name": "python",
   "nbconvert_exporter": "python",
   "pygments_lexer": "ipython3",
   "version": "3.6.9"
  }
 },
 "nbformat": 4,
 "nbformat_minor": 4
}
