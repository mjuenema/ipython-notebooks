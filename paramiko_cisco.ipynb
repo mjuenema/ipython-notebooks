{
 "cells": [
  {
   "cell_type": "markdown",
   "metadata": {},
   "source": [
    "# Paramiko to Cisco IOS router\nRewrite this using netmiko!"
   ]
  },
  {
   "cell_type": "code",
   "execution_count": 1,
   "metadata": {
    "collapsed": true
   },
   "outputs": [],
   "source": [
    "import paramiko.client"
   ]
  },
  {
   "cell_type": "code",
   "execution_count": 2,
   "metadata": {
    "collapsed": true
   },
   "outputs": [],
   "source": [
    "client = paramiko.client.SSHClient()"
   ]
  },
  {
   "cell_type": "code",
   "execution_count": 3,
   "metadata": {
    "collapsed": true
   },
   "outputs": [],
   "source": [
    "client.set_missing_host_key_policy(paramiko.client.AutoAddPolicy())"
   ]
  },
  {
   "cell_type": "code",
   "execution_count": 4,
   "metadata": {},
   "outputs": [],
   "source": [
    "client.connect('10.1.1.26', username='cisco', password='cisco', port=22, timeout=10, look_for_keys=False, allow_agent=False)"
   ]
  },
  {
   "cell_type": "code",
   "execution_count": 5,
   "metadata": {
    "collapsed": true
   },
   "outputs": [],
   "source": [
    "shell = client.invoke_shell()"
   ]
  },
  {
   "cell_type": "code",
   "execution_count": 6,
   "metadata": {},
   "outputs": [
    {
     "name": "stdout",
     "output_type": "stream",
     "text": [
      "b'\\r\\nrouter1>'\n"
     ]
    }
   ],
   "source": [
    "if shell.recv_ready():\n",
    "    out = shell.recv(65535)\n",
    "    print (out)"
   ]
  },
  {
   "cell_type": "code",
   "execution_count": 7,
   "metadata": {},
   "outputs": [
    {
     "data": {
      "text/plain": [
       "7"
      ]
     },
     "execution_count": 7,
     "metadata": {},
     "output_type": "execute_result"
    }
   ],
   "source": [
    "shell.send('enable\\n')"
   ]
  },
  {
   "cell_type": "code",
   "execution_count": 8,
   "metadata": {},
   "outputs": [
    {
     "name": "stdout",
     "output_type": "stream",
     "text": [
      "b'enable\\r\\nPassword: '\n"
     ]
    }
   ],
   "source": [
    "if shell.recv_ready():\n",
    "    out = shell.recv(65535)\n",
    "    print (out)"
   ]
  },
  {
   "cell_type": "code",
   "execution_count": 9,
   "metadata": {},
   "outputs": [
    {
     "data": {
      "text/plain": [
       "7"
      ]
     },
     "execution_count": 9,
     "metadata": {},
     "output_type": "execute_result"
    }
   ],
   "source": [
    "shell.send('enable\\n')"
   ]
  },
  {
   "cell_type": "code",
   "execution_count": 10,
   "metadata": {},
   "outputs": [
    {
     "name": "stdout",
     "output_type": "stream",
     "text": [
      "b'\\r\\nrouter1#'\n"
     ]
    }
   ],
   "source": [
    "if shell.recv_ready():\n",
    "    out = shell.recv(65535)\n",
    "    print (out)"
   ]
  },
  {
   "cell_type": "code",
   "execution_count": 11,
   "metadata": {},
   "outputs": [
    {
     "data": {
      "text/plain": [
       "18"
      ]
     },
     "execution_count": 11,
     "metadata": {},
     "output_type": "execute_result"
    }
   ],
   "source": [
    "shell.send('terminal length 0\\n')"
   ]
  },
  {
   "cell_type": "code",
   "execution_count": 12,
   "metadata": {},
   "outputs": [
    {
     "name": "stdout",
     "output_type": "stream",
     "text": [
      "b'terminal length 0\\r\\nrouter1#'\n"
     ]
    }
   ],
   "source": [
    "if shell.recv_ready():\n",
    "    out = shell.recv(65535)\n",
    "    print (out)"
   ]
  },
  {
   "cell_type": "code",
   "execution_count": 13,
   "metadata": {},
   "outputs": [
    {
     "data": {
      "text/plain": [
       "7"
      ]
     },
     "execution_count": 13,
     "metadata": {},
     "output_type": "execute_result"
    }
   ],
   "source": [
    "shell.send('conf t\\n')"
   ]
  },
  {
   "cell_type": "code",
   "execution_count": 14,
   "metadata": {},
   "outputs": [
    {
     "name": "stdout",
     "output_type": "stream",
     "text": [
      "b'conf t\\r\\nEnter configuration commands, one per line.  End with CNTL/Z.\\r\\nrouter1(config)#'\n"
     ]
    }
   ],
   "source": [
    "if shell.recv_ready():\n",
    "    out = shell.recv(65535)\n",
    "    print (out)"
   ]
  },
  {
   "cell_type": "code",
   "execution_count": 15,
   "metadata": {},
   "outputs": [
    {
     "data": {
      "text/plain": [
       "1"
      ]
     },
     "execution_count": 15,
     "metadata": {},
     "output_type": "execute_result"
    }
   ],
   "source": [
    "shell.send('?')"
   ]
  },
  {
   "cell_type": "code",
   "execution_count": 16,
   "metadata": {
    "scrolled": true
   },
   "outputs": [
    {
     "name": "stdout",
     "output_type": "stream",
     "text": [
      "b\"?\\r\\nConfigure commands:\\r\\n  aaa                         Authentication, Authorization and Accounting.\\r\\n  access-list                 Add an access list entry\\r\\n  access-session              Access Session Global Configuration Commands\\r\\n  alarm                       Configure alarm profile\\r\\n  alias                       Create command alias\\r\\n  archive                     Archive the configuration\\r\\n  arp                         Set a static ARP entry\\r\\n  authentication              Auth Manager Global Configuration Commands\\r\\n  auto                        Configure Automation\\r\\n  banner                      Define a login banner\\r\\n  beep                        Configure BEEP (Blocks Extensible Exchange\\r\\n                              Protocol)\\r\\n  boot                        Modify system boot parameters\\r\\n  bridge                      Bridge Group.\\r\\n  buffers                     Adjust system buffer pool parameters\\r\\n  call-home                   Enter call-home configuration mode\\r\\n  cdp                         Global CDP configuration subcommands\\r\\n  cef                         Cisco Express Forwarding\\r\\n  cip                         CIP protocol\\r\\n  cisp                        Set CISP parameters\\r\\n  class-map                   Configure CPL Class Map\\r\\n  clns                        Global CLNS configuration subcommands\\r\\n  clock                       Configure time-of-day clock\\r\\n  cluster                     Cluster configuration commands\\r\\n  cns                         CNS agents\\r\\n  crypto                      Encryption module\\r\\n  default                     Set a command to its defaults\\r\\n  default-value               Default character-bits values\\r\\n  define                      interface range macro definition\\r\\n  diagnostic                  Configure diagnostic information\\r\\n  dnsix-dmdp                  Provide DMDP service for DNSIX\\r\\n  dnsix-nat                   Provide DNSIX service for audit trails\\r\\n  do-exec                     To run exec commands in config mode\\r\\n  dot1x                       IEEE 802.1X Global Configuration Commands\\r\\n  downward-compatible-config  Generate a configuration compatible with older\\r\\n                              software\\r\\n  eap                         EAP Global Configuration Commands\\r\\n  emm                         Specify pre-loading of MDF\\r\\n  enable                      Modify enable password parameters\\r\\n  end                         Exit from configure mode\\r\\n  eou                         EAPoUDP Global Configuration Commands\\r\\n  epm                         EPM Global Configuration Commands\\r\\n  errdisable                  Error disable\\r\\n  event                       Event related configuration commands\\r\\n  exception                   Exception handling\\r\\n  exit                        Exit from configure mode\\r\\n  fallback                    Fallback configuration commands\\r\\n  file                        Adjust file system parameters\\r\\n  format                      Format the output\\r\\n  global-address-family       Enter address-family base routing topology mode\\r\\n  help                        Description of the interactive help system\\r\\n  hostname                    Set system's network name\\r\\n  hw-module                   Control of individual components in the system\\r\\n  identity                    Identity Configuration Commands\\r\\n  interface                   Select an interface to configure\\r\\n  ip                          Global IP configuration subcommands\\r\\n  ipc                         Configure IPC system\\r\\n  isis                        Global ISIS configuration subcommands\\r\\n  ixi                         IXI Config command\\r\\n  kerberos                    Configure Kerberos\\r\\n  key                         Key management\\r\\n  kron                        Kron interval Facility\\r\\n  l2protocol-tunnel           Tunnel Layer2 protocols\\r\\n  lacp                        LACP configuration\\r\\n  ldap                        LDAP configuration commands\\r\\n  li-view                     LI View\\r\\n  line                        Configure a terminal line\\r\\n  link                        Enable Link State Tracking feature\\r\\n  lldp                        Global LLDP configuration subcommands\\r\\n  location                    Global location configuration commands\\r\\n  logging                     Modify message logging facilities\\r\\n  login                       Enable secure login checking\\r\\n  mab                         MAC Authentication Bypass Global Configuration\\r\\n                              Commands\\r\\n  mac                         Global MAC configuration subcommands\\r\\n  macro                       Macro configuration\\r\\n  map-class                   Configure static map class\\r\\n  map-list                    Configure static map list\\r\\n  memory                      Configure memory management\\r\\n  mls                         mls global commands\\r\\n  monitor                     Monitoring different system events\\r\\n  mvr                         Enable/Disable MVR on the switch\\r\\n  netconf                     Configure NETCONF\\r\\n  network-policy              Network Policy\\r\\n  nmsp                        NMSP configuration commands\\r\\n  no                          Negate a command or set its defaults\\r\\n  ntp                         Configure NTP\\r\\n  parser                      Configure parser\\r\\n  password                    Configure encryption password (key)\\r\\n  platform                    platform specific config commands\\r\\n  policy-manager              Policy Manager configuration commands\\r\\n  policy-map                  Configure CPL Policy Map\\r\\n  port-channel                EtherChannel configuration\\r\\n  power                       Power configure\\r\\n  power-supply                Set the system power supply settings\\r\\n  priority-list               Build a priority list\\r\\n  privilege                   Command privilege parameters\\r\\n  process                     Configure process\\r\\n  process-max-time            Maximum time for process to run before\\r\\n                              voluntarily relinquishing processor\\r\\n  profinet                    profinet protocol\\r\\n  psp                         Enable PSP\\r\\n  ptp                         Global PTP configuration commands\\r\\n  qos                         Global QoS configuration subcommands\\r\\n  queue-list                  Build a custom queue list\\r\\n  radius                      RADIUS server configuration command\\r\\n  radius-server               Modify RADIUS query parameters\\r\\n  regexp                      regexp commands\\r\\n  rep                         Resilient Ethernet Protocol characteristics\\r\\n  resource                    Configure Resource settings\\r\\n  rmon                        Remote Monitoring\\r\\n  route-map                   Create route-map or enter route-map command mode\\r\\n  router                      Enable a routing process\\r\\n  sasl                        Configure SASL\\r\\n  scheduler                   Scheduler parameters\\r\\n  scripting                   Configure options for scripting languages\\r\\n  sdm                         Switch database management\\r\\n  service                     Modify use of network based services\\r\\n  service-family              Configure extenal service-family clients\\r\\n  setup                       Configure setup options\\r\\n  shell                       Configure shell command\\r\\n  shutdown                    Shutdown system elements\\r\\n  snmp                        Modify non engine SNMP parameters\\r\\n  snmp-server                 Modify SNMP engine parameters\\r\\n  spanning-tree               Spanning Tree Subsystem\\r\\n  stackmaker                  Specify stack name and add its member\\r\\n  stacks                      Configure stacks\\r\\n  standby                     Global HSRP configuration commands\\r\\n  subscriber-policy           Subscriber policy\\r\\n  system                      Set the system configuration\\r\\n  table-map                   Configure Table Map\\r\\n  tacacs                      TACACS server configuration command\\r\\n  tacacs-server               Modify TACACS query parameters\\r\\n  template                    Select a template to configure\\r\\n  tftp-server                 Provide TFTP service for netload requests\\r\\n  time-range                  Define time range entries\\r\\n  track                       Object tracking configuration commands\\r\\n  udld                        Configure global UDLD setting\\r\\n  username                    Establish User Name Authentication\\r\\n  vlan                        Vlan commands\\r\\n  vmps                        VMPS settings\\r\\n  vrf                         VRF commands\\r\\n  vtp                         Configure global VTP state\\r\\n  wsma                        Configure Web Services Management Agents\\r\\n  xdr                         Configure XDR parameters\\r\\n\\r\\nrouter1(config)#\"\n"
     ]
    }
   ],
   "source": [
    "if shell.recv_ready():\n",
    "    out = shell.recv(65535)\n",
    "    print (out)"
   ]
  },
  {
   "cell_type": "code",
   "execution_count": 17,
   "metadata": {},
   "outputs": [
    {
     "data": {
      "text/plain": [
       "['b\"?',\n",
       " 'Configure commands:',\n",
       " '  aaa                         Authentication, Authorization and Accounting.',\n",
       " '  access-list                 Add an access list entry',\n",
       " '  access-session              Access Session Global Configuration Commands',\n",
       " '  alarm                       Configure alarm profile',\n",
       " '  alias                       Create command alias',\n",
       " '  archive                     Archive the configuration',\n",
       " '  arp                         Set a static ARP entry',\n",
       " '  authentication              Auth Manager Global Configuration Commands',\n",
       " '  auto                        Configure Automation',\n",
       " '  banner                      Define a login banner',\n",
       " '  beep                        Configure BEEP (Blocks Extensible Exchange',\n",
       " '                              Protocol)',\n",
       " '  boot                        Modify system boot parameters',\n",
       " '  bridge                      Bridge Group.',\n",
       " '  buffers                     Adjust system buffer pool parameters',\n",
       " '  call-home                   Enter call-home configuration mode',\n",
       " '  cdp                         Global CDP configuration subcommands',\n",
       " '  cef                         Cisco Express Forwarding',\n",
       " '  cip                         CIP protocol',\n",
       " '  cisp                        Set CISP parameters',\n",
       " '  class-map                   Configure CPL Class Map',\n",
       " '  clns                        Global CLNS configuration subcommands',\n",
       " '  clock                       Configure time-of-day clock',\n",
       " '  cluster                     Cluster configuration commands',\n",
       " '  cns                         CNS agents',\n",
       " '  crypto                      Encryption module',\n",
       " '  default                     Set a command to its defaults',\n",
       " '  default-value               Default character-bits values',\n",
       " '  define                      interface range macro definition',\n",
       " '  diagnostic                  Configure diagnostic information',\n",
       " '  dnsix-dmdp                  Provide DMDP service for DNSIX',\n",
       " '  dnsix-nat                   Provide DNSIX service for audit trails',\n",
       " '  do-exec                     To run exec commands in config mode',\n",
       " '  dot1x                       IEEE 802.1X Global Configuration Commands',\n",
       " '  downward-compatible-config  Generate a configuration compatible with older',\n",
       " '                              software',\n",
       " '  eap                         EAP Global Configuration Commands',\n",
       " '  emm                         Specify pre-loading of MDF',\n",
       " '  enable                      Modify enable password parameters',\n",
       " '  end                         Exit from configure mode',\n",
       " '  eou                         EAPoUDP Global Configuration Commands',\n",
       " '  epm                         EPM Global Configuration Commands',\n",
       " '  errdisable                  Error disable',\n",
       " '  event                       Event related configuration commands',\n",
       " '  exception                   Exception handling',\n",
       " '  exit                        Exit from configure mode',\n",
       " '  fallback                    Fallback configuration commands',\n",
       " '  file                        Adjust file system parameters',\n",
       " '  format                      Format the output',\n",
       " '  global-address-family       Enter address-family base routing topology mode',\n",
       " '  help                        Description of the interactive help system',\n",
       " \"  hostname                    Set system's network name\",\n",
       " '  hw-module                   Control of individual components in the system',\n",
       " '  identity                    Identity Configuration Commands',\n",
       " '  interface                   Select an interface to configure',\n",
       " '  ip                          Global IP configuration subcommands',\n",
       " '  ipc                         Configure IPC system',\n",
       " '  isis                        Global ISIS configuration subcommands',\n",
       " '  ixi                         IXI Config command',\n",
       " '  kerberos                    Configure Kerberos',\n",
       " '  key                         Key management',\n",
       " '  kron                        Kron interval Facility',\n",
       " '  l2protocol-tunnel           Tunnel Layer2 protocols',\n",
       " '  lacp                        LACP configuration',\n",
       " '  ldap                        LDAP configuration commands',\n",
       " '  li-view                     LI View',\n",
       " '  line                        Configure a terminal line',\n",
       " '  link                        Enable Link State Tracking feature',\n",
       " '  lldp                        Global LLDP configuration subcommands',\n",
       " '  location                    Global location configuration commands',\n",
       " '  logging                     Modify message logging facilities',\n",
       " '  login                       Enable secure login checking',\n",
       " '  mab                         MAC Authentication Bypass Global Configuration',\n",
       " '                              Commands',\n",
       " '  mac                         Global MAC configuration subcommands',\n",
       " '  macro                       Macro configuration',\n",
       " '  map-class                   Configure static map class',\n",
       " '  map-list                    Configure static map list',\n",
       " '  memory                      Configure memory management',\n",
       " '  mls                         mls global commands',\n",
       " '  monitor                     Monitoring different system events',\n",
       " '  mvr                         Enable/Disable MVR on the switch',\n",
       " '  netconf                     Configure NETCONF',\n",
       " '  network-policy              Network Policy',\n",
       " '  nmsp                        NMSP configuration commands',\n",
       " '  no                          Negate a command or set its defaults',\n",
       " '  ntp                         Configure NTP',\n",
       " '  parser                      Configure parser',\n",
       " '  password                    Configure encryption password (key)',\n",
       " '  platform                    platform specific config commands',\n",
       " '  policy-manager              Policy Manager configuration commands',\n",
       " '  policy-map                  Configure CPL Policy Map',\n",
       " '  port-channel                EtherChannel configuration',\n",
       " '  power                       Power configure',\n",
       " '  power-supply                Set the system power supply settings',\n",
       " '  priority-list               Build a priority list',\n",
       " '  privilege                   Command privilege parameters',\n",
       " '  process                     Configure process',\n",
       " '  process-max-time            Maximum time for process to run before',\n",
       " '                              voluntarily relinquishing processor',\n",
       " '  profinet                    profinet protocol',\n",
       " '  psp                         Enable PSP',\n",
       " '  ptp                         Global PTP configuration commands',\n",
       " '  qos                         Global QoS configuration subcommands',\n",
       " '  queue-list                  Build a custom queue list',\n",
       " '  radius                      RADIUS server configuration command',\n",
       " '  radius-server               Modify RADIUS query parameters',\n",
       " '  regexp                      regexp commands',\n",
       " '  rep                         Resilient Ethernet Protocol characteristics',\n",
       " '  resource                    Configure Resource settings',\n",
       " '  rmon                        Remote Monitoring',\n",
       " '  route-map                   Create route-map or enter route-map command mode',\n",
       " '  router                      Enable a routing process',\n",
       " '  sasl                        Configure SASL',\n",
       " '  scheduler                   Scheduler parameters',\n",
       " '  scripting                   Configure options for scripting languages',\n",
       " '  sdm                         Switch database management',\n",
       " '  service                     Modify use of network based services',\n",
       " '  service-family              Configure extenal service-family clients',\n",
       " '  setup                       Configure setup options',\n",
       " '  shell                       Configure shell command',\n",
       " '  shutdown                    Shutdown system elements',\n",
       " '  snmp                        Modify non engine SNMP parameters',\n",
       " '  snmp-server                 Modify SNMP engine parameters',\n",
       " '  spanning-tree               Spanning Tree Subsystem',\n",
       " '  stackmaker                  Specify stack name and add its member',\n",
       " '  stacks                      Configure stacks',\n",
       " '  standby                     Global HSRP configuration commands',\n",
       " '  subscriber-policy           Subscriber policy',\n",
       " '  system                      Set the system configuration',\n",
       " '  table-map                   Configure Table Map',\n",
       " '  tacacs                      TACACS server configuration command',\n",
       " '  tacacs-server               Modify TACACS query parameters',\n",
       " '  template                    Select a template to configure',\n",
       " '  tftp-server                 Provide TFTP service for netload requests',\n",
       " '  time-range                  Define time range entries',\n",
       " '  track                       Object tracking configuration commands',\n",
       " '  udld                        Configure global UDLD setting',\n",
       " '  username                    Establish User Name Authentication',\n",
       " '  vlan                        Vlan commands',\n",
       " '  vmps                        VMPS settings',\n",
       " '  vrf                         VRF commands',\n",
       " '  vtp                         Configure global VTP state',\n",
       " '  wsma                        Configure Web Services Management Agents',\n",
       " '  xdr                         Configure XDR parameters',\n",
       " '',\n",
       " 'router1(config)#\"']"
      ]
     },
     "execution_count": 17,
     "metadata": {},
     "output_type": "execute_result"
    }
   ],
   "source": [
    "str(out).split('\\\\r\\\\n')"
   ]
  },
  {
   "cell_type": "code",
   "execution_count": 18,
   "metadata": {},
   "outputs": [
    {
     "data": {
      "text/plain": [
       "3"
      ]
     },
     "execution_count": 18,
     "metadata": {},
     "output_type": "execute_result"
    }
   ],
   "source": [
    "shell.send('aa\\t')"
   ]
  },
  {
   "cell_type": "code",
   "execution_count": 19,
   "metadata": {},
   "outputs": [
    {
     "name": "stdout",
     "output_type": "stream",
     "text": [
      "b'aa\\r\\nrouter1(config)#aaa '\n"
     ]
    }
   ],
   "source": [
    "if shell.recv_ready():\n",
    "    out = shell.recv(65535)\n",
    "    print (out)"
   ]
  },
  {
   "cell_type": "code",
   "execution_count": 20,
   "metadata": {},
   "outputs": [
    {
     "data": {
      "text/plain": [
       "5"
      ]
     },
     "execution_count": 20,
     "metadata": {},
     "output_type": "execute_result"
    }
   ],
   "source": [
    "shell.send('aaa ?')"
   ]
  },
  {
   "cell_type": "code",
   "execution_count": 21,
   "metadata": {},
   "outputs": [
    {
     "name": "stdout",
     "output_type": "stream",
     "text": [
      "b'aaa ?\\r\\n% Unrecognized command\\r\\nrouter1(config)#aaa aaa '\n"
     ]
    }
   ],
   "source": [
    "if shell.recv_ready():\n",
    "    out = shell.recv(65535)\n",
    "    print (out)"
   ]
  },
  {
   "cell_type": "code",
   "execution_count": 22,
   "metadata": {},
   "outputs": [
    {
     "data": {
      "text/plain": [
       "1"
      ]
     },
     "execution_count": 22,
     "metadata": {},
     "output_type": "execute_result"
    }
   ],
   "source": [
    "CTRLC = '\\x03' ; shell.send(CTRLC)"
   ]
  },
  {
   "cell_type": "code",
   "execution_count": 23,
   "metadata": {},
   "outputs": [
    {
     "name": "stdout",
     "output_type": "stream",
     "text": [
      "b'\\r\\nrouter1#'\n"
     ]
    }
   ],
   "source": [
    "if shell.recv_ready():\n",
    "    out = shell.recv(65535)\n",
    "    print (out)"
   ]
  },
  {
   "cell_type": "code",
   "execution_count": 24,
   "metadata": {},
   "outputs": [
    {
     "data": {
      "text/plain": [
       "7"
      ]
     },
     "execution_count": 24,
     "metadata": {},
     "output_type": "execute_result"
    }
   ],
   "source": [
    "shell.send('conf t\\n')"
   ]
  },
  {
   "cell_type": "code",
   "execution_count": 25,
   "metadata": {},
   "outputs": [
    {
     "name": "stdout",
     "output_type": "stream",
     "text": [
      "b'conf t\\r\\nEnter configuration commands, one per line.  End with CNTL/Z.\\r\\nrouter1(config)#'\n"
     ]
    }
   ],
   "source": [
    "if shell.recv_ready():\n",
    "    out = shell.recv(65535)\n",
    "    print (out)"
   ]
  },
  {
   "cell_type": "code",
   "execution_count": 26,
   "metadata": {},
   "outputs": [
    {
     "data": {
      "text/plain": [
       "4"
      ]
     },
     "execution_count": 26,
     "metadata": {},
     "output_type": "execute_result"
    }
   ],
   "source": [
    "shell.send('aaa ')"
   ]
  },
  {
   "cell_type": "code",
   "execution_count": 27,
   "metadata": {},
   "outputs": [
    {
     "name": "stdout",
     "output_type": "stream",
     "text": [
      "b'aaa '\n"
     ]
    }
   ],
   "source": [
    "if shell.recv_ready():\n",
    "    out = shell.recv(65535)\n",
    "    print (out)"
   ]
  },
  {
   "cell_type": "code",
   "execution_count": 28,
   "metadata": {},
   "outputs": [
    {
     "data": {
      "text/plain": [
       "1"
      ]
     },
     "execution_count": 28,
     "metadata": {},
     "output_type": "execute_result"
    }
   ],
   "source": [
    "shell.send('?')"
   ]
  },
  {
   "cell_type": "code",
   "execution_count": 29,
   "metadata": {},
   "outputs": [
    {
     "name": "stdout",
     "output_type": "stream",
     "text": [
      "b'?\\r\\n  accounting       Accounting configurations parameters.\\r\\n  attribute        AAA attribute definitions\\r\\n  authentication   Authentication configurations parameters.\\r\\n  authorization    Authorization configurations parameters.\\r\\n  cache            AAA cache definitions\\r\\n  configuration    Authorization configuration parameters.\\r\\n  dnis             Associate certain AAA parameters to a specific DNIS number\\r\\n  group            AAA group definitions\\r\\n  local            AAA Local method options\\r\\n  max-sessions     Adjust initial hash size for estimated max sessions\\r\\n  memory           AAA memory parameters\\r\\n  nas              NAS specific configuration\\r\\n  new-model        Enable NEW access control commands and functions.(Disables\\r\\n                   OLD commands.)\\r\\n  password         Configure password/secret related settings\\r\\n  pod              POD processing\\r\\n  policy           AAA policy parameters\\r\\n  server           Local AAA server\\r\\n  service-profile  Service-Profile parameters\\r\\n  session-id       AAA Session ID\\r\\n  traceback        Traceback recording\\r\\n  user             AAA user definitions\\r\\n\\r\\nrouter1(config)#aaa '\n"
     ]
    }
   ],
   "source": [
    "if shell.recv_ready():\n",
    "    out = shell.recv(65535)\n",
    "    print (out)"
   ]
  },
  {
   "cell_type": "code",
   "execution_count": 30,
   "metadata": {},
   "outputs": [
    {
     "data": {
      "text/plain": [
       "[\"b'?\",\n",
       " '  accounting       Accounting configurations parameters.',\n",
       " '  attribute        AAA attribute definitions',\n",
       " '  authentication   Authentication configurations parameters.',\n",
       " '  authorization    Authorization configurations parameters.',\n",
       " '  cache            AAA cache definitions',\n",
       " '  configuration    Authorization configuration parameters.',\n",
       " '  dnis             Associate certain AAA parameters to a specific DNIS number',\n",
       " '  group            AAA group definitions',\n",
       " '  local            AAA Local method options',\n",
       " '  max-sessions     Adjust initial hash size for estimated max sessions',\n",
       " '  memory           AAA memory parameters',\n",
       " '  nas              NAS specific configuration',\n",
       " '  new-model        Enable NEW access control commands and functions.(Disables',\n",
       " '                   OLD commands.)',\n",
       " '  password         Configure password/secret related settings',\n",
       " '  pod              POD processing',\n",
       " '  policy           AAA policy parameters',\n",
       " '  server           Local AAA server',\n",
       " '  service-profile  Service-Profile parameters',\n",
       " '  session-id       AAA Session ID',\n",
       " '  traceback        Traceback recording',\n",
       " '  user             AAA user definitions',\n",
       " '',\n",
       " \"router1(config)#aaa '\"]"
      ]
     },
     "execution_count": 30,
     "metadata": {},
     "output_type": "execute_result"
    }
   ],
   "source": [
    "str(out).split('\\\\r\\\\n')"
   ]
  },
  {
   "cell_type": "code",
   "execution_count": 31,
   "metadata": {},
   "outputs": [
    {
     "data": {
      "text/plain": [
       "['accounting',\n",
       " 'attribute',\n",
       " 'authentication',\n",
       " 'authorization',\n",
       " 'cache',\n",
       " 'configuration',\n",
       " 'dnis',\n",
       " 'group',\n",
       " 'local',\n",
       " 'max-sessions',\n",
       " 'memory',\n",
       " 'nas',\n",
       " 'new-model',\n",
       " 'password',\n",
       " 'pod',\n",
       " 'policy',\n",
       " 'server',\n",
       " 'service-profile',\n",
       " 'session-id',\n",
       " 'traceback',\n",
       " 'user']"
      ]
     },
     "execution_count": 31,
     "metadata": {},
     "output_type": "execute_result"
    }
   ],
   "source": [
    "import re\n",
    "[re.split('[\\s]+',s[2:])[0] for s in str(out).split('\\\\r\\\\n') if len(s) > 2 and s[2] != ' ' and s[0] == ' ']"
   ]
  },
  {
   "cell_type": "code",
   "execution_count": 32,
   "metadata": {},
   "outputs": [
    {
     "data": {
      "text/plain": [
       "14"
      ]
     },
     "execution_count": 32,
     "metadata": {},
     "output_type": "execute_result"
    }
   ],
   "source": [
    "shell.send('authentication')"
   ]
  },
  {
   "cell_type": "code",
   "execution_count": 33,
   "metadata": {},
   "outputs": [
    {
     "name": "stdout",
     "output_type": "stream",
     "text": [
      "b'authentication'\n"
     ]
    }
   ],
   "source": [
    "if shell.recv_ready():\n",
    "    out = shell.recv(65535)\n",
    "    print (out)"
   ]
  },
  {
   "cell_type": "code",
   "execution_count": 34,
   "metadata": {},
   "outputs": [
    {
     "data": {
      "text/plain": [
       "2"
      ]
     },
     "execution_count": 34,
     "metadata": {},
     "output_type": "execute_result"
    }
   ],
   "source": [
    "shell.send(' ?')"
   ]
  },
  {
   "cell_type": "code",
   "execution_count": 35,
   "metadata": {},
   "outputs": [
    {
     "name": "stdout",
     "output_type": "stream",
     "text": [
      "b' ?\\r\\n  arap             Set authentication lists for arap.\\r\\n  attempts         Set the maximum number of authentication attempts\\r\\n  banner           Message to use when starting login/authentication.\\r\\n  dot1x            Set authentication lists for IEEE 802.1x.\\r\\n  enable           Set authentication list for enable.\\r\\n  eou              Set authentication lists for EAPoUDP\\r\\n  fail-message     Message to use for failed login/authentication.\\r\\n  login            Set authentication lists for logins.\\r\\n  password-prompt  Text to use when prompting for a password\\r\\n  ppp              Set authentication lists for ppp.\\r\\n  sgbp             Set authentication lists for sgbp.\\r\\n  suppress         Do not send access request for a specific type of user.\\r\\n  username-prompt  Text to use when prompting for a username\\r\\n\\r\\nrouter1(config)#aaa authentication '\n"
     ]
    }
   ],
   "source": [
    "if shell.recv_ready():\n",
    "    out = shell.recv(65535)\n",
    "    print (out)"
   ]
  },
  {
   "cell_type": "code",
   "execution_count": 36,
   "metadata": {},
   "outputs": [
    {
     "data": {
      "text/plain": [
       "['arap',\n",
       " 'attempts',\n",
       " 'banner',\n",
       " 'dot1x',\n",
       " 'enable',\n",
       " 'eou',\n",
       " 'fail-message',\n",
       " 'login',\n",
       " 'password-prompt',\n",
       " 'ppp',\n",
       " 'sgbp',\n",
       " 'suppress',\n",
       " 'username-prompt']"
      ]
     },
     "execution_count": 36,
     "metadata": {},
     "output_type": "execute_result"
    }
   ],
   "source": [
    "[re.split('[\\s]+',s[2:])[0] for s in str(out).split('\\\\r\\\\n') if len(s) > 2 and s[2] != ' ' and s[0] == ' ']"
   ]
  },
  {
   "cell_type": "code",
   "execution_count": 37,
   "metadata": {},
   "outputs": [
    {
     "data": {
      "text/plain": [
       "7"
      ]
     },
     "execution_count": 37,
     "metadata": {},
     "output_type": "execute_result"
    }
   ],
   "source": [
    "shell.send(CTRLC)\n",
    "shell.send('conf t\\n')"
   ]
  },
  {
   "cell_type": "code",
   "execution_count": 38,
   "metadata": {},
   "outputs": [
    {
     "name": "stdout",
     "output_type": "stream",
     "text": [
      "b'\\r\\nrouter1#conf t\\r\\nEnter configuration commands, one per line.  End with CNTL/Z.\\r\\nrouter1(config)#'\n"
     ]
    }
   ],
   "source": [
    "if shell.recv_ready():\n",
    "    out = shell.recv(65535)\n",
    "    print (out)"
   ]
  },
  {
   "cell_type": "code",
   "execution_count": 39,
   "metadata": {},
   "outputs": [
    {
     "data": {
      "text/plain": [
       "18"
      ]
     },
     "execution_count": 39,
     "metadata": {},
     "output_type": "execute_result"
    }
   ],
   "source": [
    "shell.send('aaa authentication')"
   ]
  },
  {
   "cell_type": "code",
   "execution_count": 40,
   "metadata": {},
   "outputs": [
    {
     "data": {
      "text/plain": [
       "2"
      ]
     },
     "execution_count": 40,
     "metadata": {},
     "output_type": "execute_result"
    }
   ],
   "source": [
    "shell.send(' ?')"
   ]
  },
  {
   "cell_type": "code",
   "execution_count": 41,
   "metadata": {},
   "outputs": [
    {
     "name": "stdout",
     "output_type": "stream",
     "text": [
      "b'aaa authentication ?\\r\\n  arap             Set authentication lists for arap.\\r\\n  attempts         Set the maximum number of authentication attempts\\r\\n  banner           Message to use when starting login/authentication.\\r\\n  dot1x            Set authentication lists for IEEE 802.1x.\\r\\n  enable           Set authentication list for enable.\\r\\n  eou              Set authentication lists for EAPoUDP\\r\\n  fail-message     Message to use for failed login/authentication.\\r\\n  login            Set authentication lists for logins.\\r\\n  password-prompt  Text to use when prompting for a password\\r\\n  ppp              Set authentication lists for ppp.\\r\\n  sgbp             Set authentication lists for sgbp.\\r\\n  suppress         Do not send access request for a specific type of user.\\r\\n  username-prompt  Text to use when prompting for a username\\r\\n\\r\\nrouter1(config)#aaa authentication '\n"
     ]
    }
   ],
   "source": [
    "if shell.recv_ready():\n",
    "    out = shell.recv(65535)\n",
    "    print (out)"
   ]
  },
  {
   "cell_type": "code",
   "execution_count": 42,
   "metadata": {},
   "outputs": [
    {
     "data": {
      "text/plain": [
       "['arap',\n",
       " 'attempts',\n",
       " 'banner',\n",
       " 'dot1x',\n",
       " 'enable',\n",
       " 'eou',\n",
       " 'fail-message',\n",
       " 'login',\n",
       " 'password-prompt',\n",
       " 'ppp',\n",
       " 'sgbp',\n",
       " 'suppress',\n",
       " 'username-prompt']"
      ]
     },
     "execution_count": 42,
     "metadata": {},
     "output_type": "execute_result"
    }
   ],
   "source": [
    "[re.split('[\\s]+',s[2:])[0] for s in str(out).split('\\\\r\\\\n') if len(s) > 2 and s[2] != ' ' and s[0] == ' ']"
   ]
  },
  {
   "cell_type": "code",
   "execution_count": null,
   "metadata": {
    "collapsed": true
   },
   "outputs": [],
   "source": []
  }
 ],
 "metadata": {
  "kernelspec": {
   "display_name": "Python 3",
   "language": "python",
   "name": "python3"
  },
  "language_info": {
   "codemirror_mode": {
    "name": "ipython",
    "version": 3
   },
   "file_extension": ".py",
   "mimetype": "text/x-python",
   "name": "python",
   "nbconvert_exporter": "python",
   "pygments_lexer": "ipython3",
   "version": "3.5.3"
  }
 },
 "nbformat": 4,
 "nbformat_minor": 2
}
