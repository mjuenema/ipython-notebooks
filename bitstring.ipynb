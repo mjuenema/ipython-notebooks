{
 "cells": [
  {
   "cell_type": "markdown",
   "metadata": {},
   "source": [
    "# Bitstring\n",
    "[Bitstring](https://pypi.python.org/pypi/bitstring) is a pure Python module designed to help make the creation and analysis of binary data as simple and natural as possible. The [documentation](http://pythonhosted.org/bitstring/) is really good and this page limits itself to some quick examples."
   ]
  },
  {
   "cell_type": "code",
   "execution_count": 1,
   "metadata": {},
   "outputs": [],
   "source": [
    "import bitstring"
   ]
  },
  {
   "cell_type": "markdown",
   "metadata": {
    "collapsed": true
   },
   "source": [
    "## Basics\n",
    "There are four basic classes for representing binary data: `Bits`, `BitArray`, `ConsBitStream` and `BitStream`. Each has advantages and disadvantages but for most applications `BitArray` will be a good choice. "
   ]
  },
  {
   "cell_type": "code",
   "execution_count": 2,
   "metadata": {},
   "outputs": [],
   "source": [
    "from_hex = bitstring.BitArray('0x0001b3')\n",
    "from_bin = bitstring.BitArray('0b001100')\n",
    "from_oct = bitstring.BitArray('0o34100')\n",
    "from_int = bitstring.BitArray(uint=45, length=8)\n",
    "from_int_bigendian = bitstring.BitArray(intbe=-32768, length=16)\n",
    "from_float = bitstring.BitArray(float=10.3, length=32)                     # floats must be 32 or 64 bits long\n",
    "from_float_littleendian = bitstring.BitArray(floatle=-273.15, length=64)   # floats must be 32 or 64 bits long\n",
    "from_raw = bitstring.BitArray(bytes=b'\\x00\\x01\\x02\\xff', length=28)\n",
    "from_bool = bitstring.BitArray(True)"
   ]
  },
  {
   "cell_type": "code",
   "execution_count": 3,
   "metadata": {},
   "outputs": [
    {
     "data": {
      "text/plain": [
       "(BitArray('0x0001b3'),\n",
       " BitArray('0b001100'),\n",
       " BitArray('0b011100001000000'),\n",
       " BitArray('0x2d'),\n",
       " BitArray('0x8000'),\n",
       " BitArray('0x4124cccd'),\n",
       " BitArray('0x66666666661271c0'),\n",
       " BitArray('0x000102f'),\n",
       " BitArray('0b0'))"
      ]
     },
     "execution_count": 3,
     "metadata": {},
     "output_type": "execute_result"
    }
   ],
   "source": [
    "from_hex, from_bin, from_oct, from_int, from_int_bigendian, from_float, from_float_littleendian, from_raw, from_bool"
   ]
  },
  {
   "cell_type": "markdown",
   "metadata": {},
   "source": [
    "### Converting to a different format"
   ]
  },
  {
   "cell_type": "code",
   "execution_count": 4,
   "metadata": {},
   "outputs": [
    {
     "data": {
      "text/plain": [
       "('00101101', b'-', 45, 45, '2d', 1.9035985645941102e+185)"
      ]
     },
     "execution_count": 4,
     "metadata": {},
     "output_type": "execute_result"
    }
   ],
   "source": [
    "from_int.bin, from_int.bytes, from_int.uint, from_int.int, from_int.hex, from_float_littleendian.floatbe"
   ]
  },
  {
   "cell_type": "markdown",
   "metadata": {},
   "source": [
    "### Lengths, slicing and joining"
   ]
  },
  {
   "cell_type": "code",
   "execution_count": 5,
   "metadata": {},
   "outputs": [
    {
     "data": {
      "text/plain": [
       "(1, 32)"
      ]
     },
     "execution_count": 5,
     "metadata": {},
     "output_type": "execute_result"
    }
   ],
   "source": [
    "len(from_bool), len(from_float)"
   ]
  },
  {
   "cell_type": "code",
   "execution_count": 6,
   "metadata": {},
   "outputs": [
    {
     "data": {
      "text/plain": [
       "('1101', 2)"
      ]
     },
     "execution_count": 6,
     "metadata": {},
     "output_type": "execute_result"
    }
   ],
   "source": [
    "from_int[-4:].bin, from_int[:4].int"
   ]
  },
  {
   "cell_type": "code",
   "execution_count": 7,
   "metadata": {},
   "outputs": [
    {
     "data": {
      "text/plain": [
       "BitArray('0x0001b32d')"
      ]
     },
     "execution_count": 7,
     "metadata": {},
     "output_type": "execute_result"
    }
   ],
   "source": [
    "from_hex + from_int"
   ]
  },
  {
   "cell_type": "markdown",
   "metadata": {},
   "source": [
    "### Non-byte aligned binary data\n",
    "This only works for some data types!"
   ]
  },
  {
   "cell_type": "code",
   "execution_count": 16,
   "metadata": {},
   "outputs": [
    {
     "data": {
      "text/plain": [
       "(7, '0100000')"
      ]
     },
     "execution_count": 16,
     "metadata": {},
     "output_type": "execute_result"
    }
   ],
   "source": [
    "seven_bits = bitstring.BitArray(int=32, length=7)\n",
    "len(seven_bits), seven_bits.bin"
   ]
  },
  {
   "cell_type": "code",
   "execution_count": 18,
   "metadata": {},
   "outputs": [
    {
     "data": {
      "text/plain": [
       "b'@'"
      ]
     },
     "execution_count": 18,
     "metadata": {},
     "output_type": "execute_result"
    }
   ],
   "source": [
    "seven_bits.tobytes()     # tobytes() ensures padding to byte-alignment"
   ]
  },
  {
   "cell_type": "markdown",
   "metadata": {},
   "source": [
    "## Packing and unpacking\n",
    "Packing and unpacking is particularly useful for creating \"compound\" binary data."
   ]
  },
  {
   "cell_type": "code",
   "execution_count": 10,
   "metadata": {},
   "outputs": [
    {
     "data": {
      "text/plain": [
       "(40, '1110000011000011100010001001001100110011', b'\\xe0\\xc3\\x88\\x933')"
      ]
     },
     "execution_count": 10,
     "metadata": {},
     "output_type": "execute_result"
    }
   ],
   "source": [
    "packed = bitstring.pack('bool, int:7, floatbe:32', True, -32, -273.15)\n",
    "len(packed), packed.bin, packed.bytes"
   ]
  },
  {
   "cell_type": "code",
   "execution_count": 11,
   "metadata": {},
   "outputs": [
    {
     "data": {
      "text/plain": [
       "[True, -32, -273.1499938964844]"
      ]
     },
     "execution_count": 11,
     "metadata": {},
     "output_type": "execute_result"
    }
   ],
   "source": [
    "packed.unpack('bool, int:7, floatbe:32')"
   ]
  },
  {
   "cell_type": "markdown",
   "metadata": {},
   "source": [
    "## Finding and replacing"
   ]
  },
  {
   "cell_type": "code",
   "execution_count": 12,
   "metadata": {},
   "outputs": [
    {
     "data": {
      "text/plain": [
       "([3], [3, 4, 10])"
      ]
     },
     "execution_count": 12,
     "metadata": {},
     "output_type": "execute_result"
    }
   ],
   "source": [
    "list(packed.find('0b0000')), list(packed.findall('0b0000'))"
   ]
  },
  {
   "cell_type": "code",
   "execution_count": 13,
   "metadata": {},
   "outputs": [
    {
     "data": {
      "text/plain": [
       "'1111111011111111100010001001001100110011'"
      ]
     },
     "execution_count": 13,
     "metadata": {},
     "output_type": "execute_result"
    }
   ],
   "source": [
    "packed.replace('0b0000', '0b1111')\n",
    "packed.bin"
   ]
  },
  {
   "cell_type": "code",
   "execution_count": 14,
   "metadata": {},
   "outputs": [
    {
     "data": {
      "text/plain": [
       "(True, False)"
      ]
     },
     "execution_count": 14,
     "metadata": {},
     "output_type": "execute_result"
    }
   ],
   "source": [
    "packed.startswith('0b111'), packed.endswith('0b111')"
   ]
  },
  {
   "cell_type": "markdown",
   "metadata": {},
   "source": [
    "## Bit-operations"
   ]
  },
  {
   "cell_type": "code",
   "execution_count": 15,
   "metadata": {},
   "outputs": [
    {
     "data": {
      "text/plain": [
       "('00001111',\n",
       " '11110000',\n",
       " '00111100',\n",
       " '00000011',\n",
       " '0000111100001111',\n",
       " '00000101',\n",
       " '01011111',\n",
       " '01011010')"
      ]
     },
     "execution_count": 15,
     "metadata": {},
     "output_type": "execute_result"
    }
   ],
   "source": [
    "a = bitstring.BitArray('0b00001111')\n",
    "b = bitstring.BitArray('0b01010101')\n",
    "(a).bin, (~a).bin, (a<<2).bin, (a>>2).bin, (a*2).bin, (a&b).bin, (a|b).bin, (a^b).bin"
   ]
  },
  {
   "cell_type": "code",
   "execution_count": null,
   "metadata": {
    "collapsed": true
   },
   "outputs": [],
   "source": []
  }
 ],
 "metadata": {
  "kernelspec": {
   "display_name": "Python 3",
   "language": "python",
   "name": "python3"
  },
  "language_info": {
   "codemirror_mode": {
    "name": "ipython",
    "version": 3
   },
   "file_extension": ".py",
   "mimetype": "text/x-python",
   "name": "python",
   "nbconvert_exporter": "python",
   "pygments_lexer": "ipython3",
   "version": "3.5.3"
  }
 },
 "nbformat": 4,
 "nbformat_minor": 2
}
