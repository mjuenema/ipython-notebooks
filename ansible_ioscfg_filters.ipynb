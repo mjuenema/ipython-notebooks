{
 "cells": [
  {
   "cell_type": "markdown",
   "metadata": {},
   "source": [
    "# ansible_ioscfg_filters\n",
    "Prototyping ``ansible_iosfcfg"
   ]
  },
  {
   "cell_type": "code",
   "execution_count": 228,
   "metadata": {},
   "outputs": [],
   "source": [
    "# The line below can be ignored but I didn't set up my environment properly \n",
    "import sys ; sys.path.append('/home/mjuenemann/.virtualenvs/ciscoconfparse/lib/python3.6/site-packages')"
   ]
  },
  {
   "cell_type": "code",
   "execution_count": 229,
   "metadata": {},
   "outputs": [],
   "source": [
    "import ciscoconfparse"
   ]
  },
  {
   "cell_type": "code",
   "execution_count": 230,
   "metadata": {},
   "outputs": [],
   "source": [
    "ansible_net_config = \"\"\"\n",
    "!\n",
    "hostname router01\n",
    "!\n",
    "tacacs-server host 192.0.2.34\n",
    "tacacs-server key cheezit\n",
    "!\n",
    "interface Ethernet2/0\n",
    " description Unprotected interface, facing towards Internet\n",
    " ip address 192.0.2.14 255.255.255.240\n",
    " no ip unreachables\n",
    " ntp disable\n",
    " no mop enable\n",
    " mtu 900\n",
    "!\n",
    "interface Ethernet2/1\n",
    " description Protected interface, facing towards DMZ\n",
    " ip address 192.0.2.17 255.255.255.240\n",
    " no mop enable\n",
    " \n",
    "ip access-list extended LIST1\n",
    " allow ip host 10.1.1.1 host 10.99.99.99\n",
    " allow ip host 10.9.9.9 host 10.99.99.99\n",
    " allow ip host 10.1.1.1 host 192.168.1.1\n",
    "!\n",
    "ip access-list extended LIST2\n",
    " allow ip host 10.1.1.1 host 10.99.99.99\n",
    " allow ip host 10.1.1.1 host 172.16.1.1\n",
    "\"\"\""
   ]
  },
  {
   "cell_type": "code",
   "execution_count": 231,
   "metadata": {},
   "outputs": [],
   "source": [
    "def _parse_config(config):\n",
    "    return ciscoconfparse.CiscoConfParse(config.split('\\n'))\n",
    "\n",
    "def ioscfg_lines(config, lineregex):\n",
    "    cfg = _parse_config(config)\n",
    "    return [ioscfgline.text for ioscfgline in cfg.find_objects(lineregex)]\n",
    "\n",
    "def ioscfg_lines_with_child(config, parentregex, childregex):\n",
    "    cfg = _parse_config(config)\n",
    "    return [ioscfgline.text for ioscfgline in cfg.find_objects_w_child(parentregex, childregex)]\n",
    "    \n",
    "def ioscfg_lines_and_child(config, parentregex, childregex):\n",
    "    import re\n",
    "    cfg = _parse_config(config)\n",
    "    return [(ioscfgline.text, [child.text for child in ioscfgline.children \n",
    "                               if re.search(childregex, child.text)], )\n",
    "            for ioscfgline in cfg.find_objects_w_child(parentregex, childregex)]\n",
    "\n",
    "def ioscfg_lines_without_child(config, parentregex, childregex):\n",
    "    cfg = _parse_config(config)\n",
    "    return [ioscfgline.text for ioscfgline in cfg.find_objects_wo_child(parentregex, childregex)]\n",
    "\n",
    "def ioscfg_lines_with_children(config, parentregex, childregexes):\n",
    "    cfg = _parse_config(config)\n",
    "    return [ioscfgline.text for ioscfgline in cfg.find_objects_w_all_children(parentregex, childregexes)]\n",
    "\n",
    "def ioscfg_lines_without_children(config, parentregex, childregexes):\n",
    "    cfg = _parse_config(config)\n",
    "    return [ioscfgline.text for ioscfgline in cfg.find_objects_w_missing_children(parentregex, childregexes)]\n",
    "\n",
    "def ioscfg_lines_with_parents(config, parentregex, childregex):\n",
    "    cfg = _parse_config(config)\n",
    "    return [ioscfgline.text for ioscfgline in cfg.find_objects_w_parents(parentregex, childregex)]\n",
    "\n",
    "class FilterModule(object):\n",
    "    def filters(self):\n",
    "        return {\n",
    "            'ioscfg_lines': ioscfg_lines,\n",
    "            'ioscfg_lines_with_child': ioscfg_lines_with_child,\n",
    "            'ioscfg_lines_and_child': ioscfg_lines_and_child,\n",
    "            'ioscfg_lines_without_child': ioscfg_lines_without_child,\n",
    "            'ioscfg_lines_with_children': ioscfg_lines_with_children,\n",
    "            'ioscfg_lines_without_children': ioscfg_lines_without_children,\n",
    "            'ioscfg_lines_with_parents': ioscfg_lines_with_parents\n",
    "        }\n"
   ]
  },
  {
   "cell_type": "markdown",
   "metadata": {},
   "source": [
    "## ioscfg_lines(lineregex)\n",
    "Return lines matching the ``lineregex``."
   ]
  },
  {
   "cell_type": "code",
   "execution_count": 232,
   "metadata": {},
   "outputs": [
    {
     "data": {
      "text/plain": [
       "['tacacs-server host 192.0.2.34', 'tacacs-server key cheezit']"
      ]
     },
     "execution_count": 232,
     "metadata": {},
     "output_type": "execute_result"
    }
   ],
   "source": [
    "ioscfg_lines(ansible_net_config, r'^tacacs')"
   ]
  },
  {
   "cell_type": "markdown",
   "metadata": {},
   "source": [
    "## ioscfg_lines_with_child(parentregex, childregex):\n",
    "Return lines matching ``parentregex`` that have a child matching ``childregex``."
   ]
  },
  {
   "cell_type": "code",
   "execution_count": 233,
   "metadata": {},
   "outputs": [
    {
     "data": {
      "text/plain": [
       "['interface Ethernet2/0', 'interface Ethernet2/1']"
      ]
     },
     "execution_count": 233,
     "metadata": {},
     "output_type": "execute_result"
    }
   ],
   "source": [
    "ioscfg_lines_with_child(ansible_net_config, r'^interface', r'no mop enable')"
   ]
  },
  {
   "cell_type": "markdown",
   "metadata": {},
   "source": [
    "## ioscfg_lines_and_child(parentregex, childregex):\n",
    "This works like ``ioscfg_lines_with_child()`` but returns tuples of parent lines lines matching ``childregex``.\n",
    "One possible use case could be to identify all access control lists and rules that relate to a specific IP address."
   ]
  },
  {
   "cell_type": "code",
   "execution_count": 234,
   "metadata": {},
   "outputs": [
    {
     "data": {
      "text/plain": [
       "[('ip access-list extended LIST1',\n",
       "  [' allow ip host 10.1.1.1 host 10.99.99.99',\n",
       "   ' allow ip host 10.9.9.9 host 10.99.99.99']),\n",
       " ('ip access-list extended LIST2',\n",
       "  [' allow ip host 10.1.1.1 host 10.99.99.99'])]"
      ]
     },
     "execution_count": 234,
     "metadata": {},
     "output_type": "execute_result"
    }
   ],
   "source": [
    "ioscfg_lines_and_child(ansible_net_config, r'^ip access-list extended', r'10.99.99.99')"
   ]
  },
  {
   "cell_type": "markdown",
   "metadata": {},
   "source": [
    "## ioscfg_lines_without_child(parentregex, childregex)\n",
    "Return lines matching ``parentregex`` but not have a child in ``childregex``."
   ]
  },
  {
   "cell_type": "code",
   "execution_count": 235,
   "metadata": {},
   "outputs": [
    {
     "data": {
      "text/plain": [
       "['interface Ethernet2/1']"
      ]
     },
     "execution_count": 235,
     "metadata": {},
     "output_type": "execute_result"
    }
   ],
   "source": [
    "ioscfg_lines_without_child(ansible_net_config, r'^interface', r'no ip unreachables')"
   ]
  },
  {
   "cell_type": "markdown",
   "metadata": {},
   "source": [
    "## ioscfg_lines_with_children(parentregex, childregexes)\n",
    "Return lines matching ``parentregex`` and have *all* children in ``childregexes``. "
   ]
  },
  {
   "cell_type": "code",
   "execution_count": 236,
   "metadata": {},
   "outputs": [
    {
     "data": {
      "text/plain": [
       "['interface Ethernet2/0']"
      ]
     },
     "execution_count": 236,
     "metadata": {},
     "output_type": "execute_result"
    }
   ],
   "source": [
    "ioscfg_lines_with_children(ansible_net_config, r'^interface', [r'no ip unreachables', r'no mop enable'])"
   ]
  },
  {
   "cell_type": "markdown",
   "metadata": {},
   "source": [
    "## ioscfg_lines_without_children(parentregex, childregexes)\n",
    "Return lines matching ``parentregex`` that have *none* of the children in ``childregexes``.\n",
    "\n",
    "**DOES THIS WORK?**"
   ]
  },
  {
   "cell_type": "code",
   "execution_count": 237,
   "metadata": {},
   "outputs": [
    {
     "data": {
      "text/plain": [
       "['interface Ethernet2/1']"
      ]
     },
     "execution_count": 237,
     "metadata": {},
     "output_type": "execute_result"
    }
   ],
   "source": [
    "ioscfg_lines_without_children(ansible_net_config, r'^interface', [r'no ip unreachables', r'no mop enable'])"
   ]
  },
  {
   "cell_type": "markdown",
   "metadata": {},
   "source": [
    "## ioscfg_lines_with_parents(parentregex, childregex)\n",
    "\n",
    "Return lines matching ``childregex`` that have a parent matching ``parentregex``."
   ]
  },
  {
   "cell_type": "code",
   "execution_count": 238,
   "metadata": {},
   "outputs": [
    {
     "data": {
      "text/plain": [
       "[' no mop enable', ' no mop enable']"
      ]
     },
     "execution_count": 238,
     "metadata": {},
     "output_type": "execute_result"
    }
   ],
   "source": [
    "ioscfg_lines_with_parents(ansible_net_config, r'^interface', r'no mop enable')"
   ]
  },
  {
   "cell_type": "code",
   "execution_count": null,
   "metadata": {},
   "outputs": [],
   "source": []
  }
 ],
 "metadata": {
  "kernelspec": {
   "display_name": "Python 3",
   "language": "python",
   "name": "python3"
  },
  "language_info": {
   "codemirror_mode": {
    "name": "ipython",
    "version": 3
   },
   "file_extension": ".py",
   "mimetype": "text/x-python",
   "name": "python",
   "nbconvert_exporter": "python",
   "pygments_lexer": "ipython3",
   "version": "3.6.9"
  }
 },
 "nbformat": 4,
 "nbformat_minor": 4
}
